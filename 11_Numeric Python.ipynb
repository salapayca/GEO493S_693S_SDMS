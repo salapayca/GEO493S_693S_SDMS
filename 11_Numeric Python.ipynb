{
 "cells": [
  {
   "cell_type": "markdown",
   "id": "597cea2d",
   "metadata": {
    "slideshow": {
     "slide_type": "slide"
    }
   },
   "source": [
    "# Numeric Python - NumPy\n",
    "\n",
    "- Third party module for fast management of multidimensional grid-like data\n",
    "- [Source](http://numpy.scipy.org/)\n",
    "- Documentation\n",
    "    - [Numpy Tutorial](https://numpy.org/doc/stable/user/quickstart.html)\n",
    "    - [Numpy Examples](https://scipy.github.io/old-wiki/pages/Numpy_Example_List_With_Doc.html)"
   ]
  },
  {
   "cell_type": "markdown",
   "id": "bf5d749b",
   "metadata": {
    "slideshow": {
     "slide_type": "slide"
    }
   },
   "source": [
    "# ARRAY\n",
    "\n",
    "- Basic data structure of numerical python : **array**\n",
    "- Arrays are multi dimensional lists of homogenous data (i.e. no mixing of data types are allowed)\n",
    "    e.g. 2 dimensional integer array is equivalent to a list of lists of integers\n",
    "- More efficient than standard Python data types for very large sets of numbers (large grids)\n",
    "- All numbers in an array are of the same data type\n"
   ]
  },
  {
   "cell_type": "markdown",
   "id": "2bb6071b",
   "metadata": {
    "slideshow": {
     "slide_type": "slide"
    }
   },
   "source": [
    "- Array objects must be full (no empty cells) \n",
    "- `ndim` - the number of dimensions alogn which that array is defined\n",
    "- `size` - total number of elements in array\n",
    "- `shape` - the number of dimensions an array has and the extent of each of these dimensions\n"
   ]
  },
  {
   "cell_type": "markdown",
   "id": "ff0cef80",
   "metadata": {
    "slideshow": {
     "slide_type": "slide"
    }
   },
   "source": [
    "## Examples"
   ]
  },
  {
   "cell_type": "code",
   "execution_count": 7,
   "id": "34e92a62",
   "metadata": {
    "slideshow": {
     "slide_type": "-"
    }
   },
   "outputs": [
    {
     "name": "stdout",
     "output_type": "stream",
     "text": [
      "[[1.0, 2.0, 3.0, 4.0], [4.0, 3.0, 2.0, 1.0]]\n"
     ]
    },
    {
     "data": {
      "text/plain": [
       "list"
      ]
     },
     "execution_count": 7,
     "metadata": {},
     "output_type": "execute_result"
    }
   ],
   "source": [
    "list2d = [[1.0,2.0,3.0,4.0],[4.0,3.0,2.0,1.0]]\n",
    "\n",
    "print(list2d)\n",
    "type(list2d)"
   ]
  },
  {
   "cell_type": "code",
   "execution_count": 8,
   "id": "7a27e027",
   "metadata": {
    "slideshow": {
     "slide_type": "-"
    }
   },
   "outputs": [
    {
     "name": "stdout",
     "output_type": "stream",
     "text": [
      "[[1. 2. 3. 4.]\n",
      " [4. 3. 2. 1.]]\n"
     ]
    },
    {
     "data": {
      "text/plain": [
       "numpy.ndarray"
      ]
     },
     "execution_count": 8,
     "metadata": {},
     "output_type": "execute_result"
    }
   ],
   "source": [
    "import numpy \n",
    "\n",
    "arr = numpy.array(list2d)\n",
    "\n",
    "print(arr)\n",
    "type(arr)"
   ]
  },
  {
   "cell_type": "code",
   "execution_count": 3,
   "id": "458398f3",
   "metadata": {
    "slideshow": {
     "slide_type": "slide"
    }
   },
   "outputs": [
    {
     "data": {
      "text/plain": [
       "2"
      ]
     },
     "execution_count": 3,
     "metadata": {},
     "output_type": "execute_result"
    }
   ],
   "source": [
    "arr.ndim # dimensions(number of axes)"
   ]
  },
  {
   "cell_type": "code",
   "execution_count": 4,
   "id": "24ee0b57",
   "metadata": {
    "slideshow": {
     "slide_type": "-"
    }
   },
   "outputs": [
    {
     "data": {
      "text/plain": [
       "(2, 4)"
      ]
     },
     "execution_count": 4,
     "metadata": {},
     "output_type": "execute_result"
    }
   ],
   "source": [
    "arr.shape # shape ( number of rows,cols)"
   ]
  },
  {
   "cell_type": "code",
   "execution_count": 5,
   "id": "3a35b682",
   "metadata": {
    "slideshow": {
     "slide_type": "-"
    }
   },
   "outputs": [
    {
     "data": {
      "text/plain": [
       "8"
      ]
     },
     "execution_count": 5,
     "metadata": {},
     "output_type": "execute_result"
    }
   ],
   "source": [
    "arr.size #total number of elements"
   ]
  },
  {
   "cell_type": "code",
   "execution_count": 9,
   "id": "ed2a8ca8",
   "metadata": {
    "slideshow": {
     "slide_type": "-"
    }
   },
   "outputs": [
    {
     "data": {
      "text/plain": [
       "dtype('float64')"
      ]
     },
     "execution_count": 9,
     "metadata": {},
     "output_type": "execute_result"
    }
   ],
   "source": [
    "arr.dtype #array data type"
   ]
  },
  {
   "cell_type": "markdown",
   "id": "141dc331",
   "metadata": {
    "slideshow": {
     "slide_type": "slide"
    }
   },
   "source": [
    "## Example : Creating A Boolean Array"
   ]
  },
  {
   "cell_type": "code",
   "execution_count": 10,
   "id": "67fc7cb9",
   "metadata": {
    "slideshow": {
     "slide_type": "-"
    }
   },
   "outputs": [
    {
     "name": "stdout",
     "output_type": "stream",
     "text": [
      "[[ True  True False]\n",
      " [False  True False]]\n"
     ]
    }
   ],
   "source": [
    "import numpy as np\n",
    "arr_b = np.array([[1,1,0],[0,1,0]], dtype=bool)\n",
    "\n",
    "print(arr_b)"
   ]
  },
  {
   "cell_type": "code",
   "execution_count": 11,
   "id": "37850d40",
   "metadata": {
    "slideshow": {
     "slide_type": "-"
    }
   },
   "outputs": [
    {
     "data": {
      "text/plain": [
       "8"
      ]
     },
     "execution_count": 11,
     "metadata": {},
     "output_type": "execute_result"
    }
   ],
   "source": [
    "#how much memory?\n",
    "arr.itemsize"
   ]
  },
  {
   "cell_type": "code",
   "execution_count": 17,
   "id": "60aedb31",
   "metadata": {
    "slideshow": {
     "slide_type": "slide"
    }
   },
   "outputs": [
    {
     "ename": "TypeError",
     "evalue": "array() takes from 1 to 2 positional arguments but 4 were given",
     "output_type": "error",
     "traceback": [
      "\u001b[1;31m---------------------------------------------------------------------------\u001b[0m",
      "\u001b[1;31mTypeError\u001b[0m                                 Traceback (most recent call last)",
      "\u001b[1;32mC:\\Users\\SSALAP~1\\AppData\\Local\\Temp/ipykernel_31124/714988041.py\u001b[0m in \u001b[0;36m<module>\u001b[1;34m\u001b[0m\n\u001b[0;32m      1\u001b[0m \u001b[1;31m# A common error in array building:\u001b[0m\u001b[1;33m\u001b[0m\u001b[1;33m\u001b[0m\u001b[1;33m\u001b[0m\u001b[0m\n\u001b[0;32m      2\u001b[0m \u001b[1;33m\u001b[0m\u001b[0m\n\u001b[1;32m----> 3\u001b[1;33m \u001b[0marr_e\u001b[0m \u001b[1;33m=\u001b[0m \u001b[0mnp\u001b[0m\u001b[1;33m.\u001b[0m\u001b[0marray\u001b[0m\u001b[1;33m(\u001b[0m\u001b[1;33m[\u001b[0m\u001b[1;36m1\u001b[0m\u001b[1;33m,\u001b[0m\u001b[1;36m2\u001b[0m\u001b[1;33m]\u001b[0m\u001b[1;33m,\u001b[0m\u001b[1;36m2\u001b[0m\u001b[1;33m,\u001b[0m\u001b[1;36m3\u001b[0m\u001b[1;33m,\u001b[0m\u001b[1;36m4\u001b[0m\u001b[1;33m)\u001b[0m\u001b[1;33m\u001b[0m\u001b[1;33m\u001b[0m\u001b[0m\n\u001b[0m\u001b[0;32m      4\u001b[0m \u001b[0mprint\u001b[0m\u001b[1;33m(\u001b[0m\u001b[0marr_e\u001b[0m\u001b[1;33m)\u001b[0m\u001b[1;33m\u001b[0m\u001b[1;33m\u001b[0m\u001b[0m\n",
      "\u001b[1;31mTypeError\u001b[0m: array() takes from 1 to 2 positional arguments but 4 were given"
     ]
    }
   ],
   "source": [
    "# A common error in array building:\n",
    "\n",
    "arr_e = np.array([1,2]\n",
    "print(arr_e)"
   ]
  },
  {
   "cell_type": "code",
   "execution_count": 13,
   "id": "24c94cac",
   "metadata": {
    "slideshow": {
     "slide_type": "-"
    }
   },
   "outputs": [
    {
     "name": "stdout",
     "output_type": "stream",
     "text": [
      "[1 2 3 4 5]\n"
     ]
    }
   ],
   "source": [
    "arr_e = np.array([1,2,3,4,5])\n",
    "print(arr_e)"
   ]
  },
  {
   "cell_type": "code",
   "execution_count": 14,
   "id": "a0c5230a",
   "metadata": {
    "slideshow": {
     "slide_type": "slide"
    }
   },
   "outputs": [
    {
     "name": "stdout",
     "output_type": "stream",
     "text": [
      "[0.  0.5 1.  1.5 2.  2.5]\n"
     ]
    }
   ],
   "source": [
    "#Create an array from a range of values\n",
    "arr_r = np.arange(0.0, 3.0,0.5) # note that you can use a fraction as a step\n",
    "print(arr_r)"
   ]
  }
 ],
 "metadata": {
  "celltoolbar": "Slideshow",
  "kernelspec": {
   "display_name": "Python 3 (ipykernel)",
   "language": "python",
   "name": "python3"
  },
  "language_info": {
   "codemirror_mode": {
    "name": "ipython",
    "version": 3
   },
   "file_extension": ".py",
   "mimetype": "text/x-python",
   "name": "python",
   "nbconvert_exporter": "python",
   "pygments_lexer": "ipython3",
   "version": "3.7.10"
  }
 },
 "nbformat": 4,
 "nbformat_minor": 5
}
