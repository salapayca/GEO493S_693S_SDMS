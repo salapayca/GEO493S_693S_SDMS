{
 "cells": [
  {
   "cell_type": "markdown",
   "id": "c79c6057",
   "metadata": {
    "slideshow": {
     "slide_type": "slide"
    }
   },
   "source": [
    "# Reshaping Arrays"
   ]
  },
  {
   "cell_type": "code",
   "execution_count": 8,
   "id": "5a39d10a",
   "metadata": {
    "slideshow": {
     "slide_type": "-"
    }
   },
   "outputs": [
    {
     "name": "stdout",
     "output_type": "stream",
     "text": [
      "[[ 0  1  2  3]\n",
      " [ 4  5  6  7]\n",
      " [ 8  9 10 11]]\n"
     ]
    }
   ],
   "source": [
    "# changing a shape\n",
    "\n",
    "import numpy as np\n",
    "\n",
    "arr_s = np.arange(12).reshape(3,4)\n",
    "\n",
    "print(arr_s)\n"
   ]
  },
  {
   "cell_type": "code",
   "execution_count": 9,
   "id": "a54a2cce",
   "metadata": {
    "slideshow": {
     "slide_type": "slide"
    }
   },
   "outputs": [
    {
     "data": {
      "text/plain": [
       "array([ 0,  1,  2,  3,  4,  5,  6,  7,  8,  9, 10, 11])"
      ]
     },
     "execution_count": 9,
     "metadata": {},
     "output_type": "execute_result"
    }
   ],
   "source": [
    "#convert to 1d list\n",
    "\n",
    "arr_s.ravel()"
   ]
  },
  {
   "cell_type": "code",
   "execution_count": 10,
   "id": "5c3c89ba",
   "metadata": {
    "slideshow": {
     "slide_type": "-"
    }
   },
   "outputs": [
    {
     "name": "stdout",
     "output_type": "stream",
     "text": [
      "[[ 0  1  2  3]\n",
      " [ 4  5  6  7]\n",
      " [ 8  9 10 11]]\n"
     ]
    }
   ],
   "source": [
    "print(arr_s)"
   ]
  },
  {
   "cell_type": "markdown",
   "id": "57b9d2c9",
   "metadata": {
    "slideshow": {
     "slide_type": "-"
    }
   },
   "source": [
    "Why hasn't our array changed? `reshape` returns a new array, `resize` changes the array ***in place***"
   ]
  },
  {
   "cell_type": "code",
   "execution_count": 17,
   "id": "e844d8c6",
   "metadata": {
    "slideshow": {
     "slide_type": "slide"
    }
   },
   "outputs": [
    {
     "name": "stdout",
     "output_type": "stream",
     "text": [
      "[0 1 2 3 4 5 6 7]\n",
      "[[0 1]\n",
      " [2 3]\n",
      " [4 5]\n",
      " [6 7]]\n"
     ]
    }
   ],
   "source": [
    "arr = np.arange(8)\n",
    "arr_r = arr.reshape(4,2)\n",
    "\n",
    "print(arr)\n",
    "print(arr_r)"
   ]
  },
  {
   "cell_type": "code",
   "execution_count": 12,
   "id": "fd45a66c",
   "metadata": {
    "scrolled": true,
    "slideshow": {
     "slide_type": "-"
    }
   },
   "outputs": [
    {
     "name": "stdout",
     "output_type": "stream",
     "text": [
      "[[0 1]\n",
      " [2 3]\n",
      " [4 5]\n",
      " [6 7]]\n"
     ]
    }
   ],
   "source": [
    "arr.resize(4,2)\n",
    "print(arr)"
   ]
  },
  {
   "cell_type": "markdown",
   "id": "0d4d282a",
   "metadata": {
    "slideshow": {
     "slide_type": "slide"
    }
   },
   "source": [
    "# Special Arrays"
   ]
  },
  {
   "cell_type": "code",
   "execution_count": 27,
   "id": "0bc6bb79",
   "metadata": {
    "slideshow": {
     "slide_type": "-"
    }
   },
   "outputs": [
    {
     "name": "stdout",
     "output_type": "stream",
     "text": [
      "[[0. 0. 0. 0. 0.]\n",
      " [0. 0. 0. 0. 0.]\n",
      " [0. 0. 0. 0. 0.]]\n"
     ]
    }
   ],
   "source": [
    "arr_0 = np.zeros((3,5)) #Why I have double paranthesis here?\n",
    "print(arr_0)"
   ]
  },
  {
   "cell_type": "code",
   "execution_count": 28,
   "id": "b6fe47d3",
   "metadata": {
    "slideshow": {
     "slide_type": "slide"
    }
   },
   "outputs": [
    {
     "data": {
      "text/plain": [
       "array([[False, False],\n",
       "       [False, False]])"
      ]
     },
     "execution_count": 28,
     "metadata": {},
     "output_type": "execute_result"
    }
   ],
   "source": [
    "arr_0= np.zeros((2,2),dtype=bool)\n",
    "arr_0"
   ]
  },
  {
   "cell_type": "code",
   "execution_count": null,
   "id": "52f27bae",
   "metadata": {
    "slideshow": {
     "slide_type": "slide"
    }
   },
   "outputs": [],
   "source": [
    "arr_1= np.ones((2,3),dtype=int)\n",
    "print(arr_1)"
   ]
  },
  {
   "cell_type": "code",
   "execution_count": 34,
   "id": "8bad152d",
   "metadata": {
    "slideshow": {
     "slide_type": "slide"
    }
   },
   "outputs": [
    {
     "data": {
      "text/plain": [
       "array([[0.2329852 , 0.43663435, 0.87564957],\n",
       "       [0.87569803, 0.01630131, 0.81352504],\n",
       "       [0.46679032, 0.3060893 , 0.26310372],\n",
       "       [0.44708174, 0.71419394, 0.13953128]])"
      ]
     },
     "execution_count": 34,
     "metadata": {},
     "output_type": "execute_result"
    }
   ],
   "source": [
    "from numpy.random import *\n",
    "rand(4,3)\n",
    "\n",
    "import numpy as np\n",
    "\n",
    "np.random.rand(4,3)"
   ]
  },
  {
   "cell_type": "code",
   "execution_count": 37,
   "id": "b8fc1e76",
   "metadata": {
    "slideshow": {
     "slide_type": "slide"
    }
   },
   "outputs": [
    {
     "data": {
      "text/plain": [
       "array([[ 2, 15,  7],\n",
       "       [ 6, 13, -1],\n",
       "       [ 7, 10,  4],\n",
       "       [ 4, -1, 14]])"
      ]
     },
     "execution_count": 37,
     "metadata": {},
     "output_type": "execute_result"
    }
   ],
   "source": [
    "from numpy.random import *\n",
    "\n",
    "int_from = -1\n",
    "int_to = 17\n",
    "randint(-1, 17, (4,3))\n"
   ]
  }
 ],
 "metadata": {
  "celltoolbar": "Slideshow",
  "kernelspec": {
   "display_name": "Python 3 (ipykernel)",
   "language": "python",
   "name": "python3"
  },
  "language_info": {
   "codemirror_mode": {
    "name": "ipython",
    "version": 3
   },
   "file_extension": ".py",
   "mimetype": "text/x-python",
   "name": "python",
   "nbconvert_exporter": "python",
   "pygments_lexer": "ipython3",
   "version": "3.7.10"
  }
 },
 "nbformat": 4,
 "nbformat_minor": 5
}
