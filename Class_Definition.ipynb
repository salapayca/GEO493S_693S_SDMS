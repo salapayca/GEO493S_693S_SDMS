{
 "cells": [
  {
   "cell_type": "markdown",
   "metadata": {
    "slideshow": {
     "slide_type": "subslide"
    }
   },
   "source": [
    "# Defining and Invoking Objects"
   ]
  },
  {
   "cell_type": "markdown",
   "metadata": {
    "slideshow": {
     "slide_type": "subslide"
    }
   },
   "source": [
    "- To define an object, we create a __class__\n",
    "- A class is an __object template (blueprint)__ but it s not the object itself\n",
    "- To create an object, we need to __instantiate__ the class \n",
    "    - call the class, \n",
    "    - put the necessary data into its attributes, \n",
    "    - assign the object to a variable (so it does not “float” in the memory)"
   ]
  },
  {
   "cell_type": "markdown",
   "metadata": {
    "slideshow": {
     "slide_type": "subslide"
    }
   },
   "source": [
    "## No initialization"
   ]
  },
  {
   "cell_type": "code",
   "execution_count": null,
   "metadata": {
    "slideshow": {
     "slide_type": "fragment"
    }
   },
   "outputs": [],
   "source": [
    "class Point:\n",
    "    pass\n",
    "\n",
    "#-------invocation---------\n",
    "\n",
    "pointOne = Point()\n",
    "pointOne.x = 100.00\n",
    "pointOne.y = 200.00\n",
    "\n",
    "print (pointOne)\n",
    "print (pointOne.x)\n",
    "print (pointOne.y)"
   ]
  },
  {
   "cell_type": "markdown",
   "metadata": {
    "slideshow": {
     "slide_type": "subslide"
    }
   },
   "source": [
    "## Initalization - point position"
   ]
  },
  {
   "cell_type": "code",
   "execution_count": null,
   "metadata": {
    "slideshow": {
     "slide_type": "fragment"
    }
   },
   "outputs": [],
   "source": [
    "class Point :\n",
    "    def __init__(self,x,y):\n",
    "        self.x = x\n",
    "        self.y = y\n",
    "\n",
    "#-------invocation---------\n",
    "\n",
    "pointOne = Point(100.00,200.00)\n",
    "\n",
    "print(pointOne)\n",
    "print(pointOne.x)\n",
    "print(pointOne.y)"
   ]
  },
  {
   "cell_type": "markdown",
   "metadata": {
    "slideshow": {
     "slide_type": "subslide"
    }
   },
   "source": [
    "## Initialization - point position & overriding the default __str__ function"
   ]
  },
  {
   "cell_type": "markdown",
   "metadata": {
    "slideshow": {
     "slide_type": "fragment"
    }
   },
   "source": [
    "NOTE : **__ str __** defines a string that describes the object, if you override it (as above), you may print object description using print __objectName__"
   ]
  },
  {
   "cell_type": "code",
   "execution_count": null,
   "metadata": {
    "slideshow": {
     "slide_type": "subslide"
    }
   },
   "outputs": [],
   "source": [
    "class Point:\n",
    "    def __init__(self,x,y):\n",
    "        self.x = x\n",
    "        self.y = y\n",
    "    def __str__(self):\n",
    "        return \"Point at (%.2f,%.2f)\"%(self.x,self.y)\n",
    "       # return \"Point at (\" + str(self.x) + \",\" + str(self.y) + \")\"\n",
    "#-------invocation---------\n",
    "\n",
    "pointOne = Point(100.00,200.00)\n",
    "\n",
    "print(pointOne)\n",
    "print(pointOne.x)\n",
    "print(pointOne.y)"
   ]
  },
  {
   "cell_type": "markdown",
   "metadata": {
    "slideshow": {
     "slide_type": "subslide"
    }
   },
   "source": [
    "## Initialization - Point poisition with default values for (x,y) parameters - optional arguments"
   ]
  },
  {
   "cell_type": "code",
   "execution_count": null,
   "metadata": {
    "slideshow": {
     "slide_type": "subslide"
    }
   },
   "outputs": [],
   "source": [
    "class Point:\n",
    "    def __init__(self, x = 0, y = 0):\n",
    "        self.x = x\n",
    "        self.y = y\n",
    "    def __str__(self):\n",
    "         return \"Point at (%.2f,%.2f)\" %(self.x, self.y)\n",
    "\n",
    "        #---------- invocation ----------\n",
    "pointOne = Point()\n",
    "pointTwo = Point(100)\n",
    "pointThree = Point(200,300)\n",
    "pointFour = Point(y= 400)\n",
    "\n",
    "print (pointOne)\n",
    "print (pointTwo)\n",
    "print (pointThree)\n",
    "print (pointFour)\n"
   ]
  },
  {
   "cell_type": "markdown",
   "metadata": {
    "slideshow": {
     "slide_type": "slide"
    }
   },
   "source": [
    "## Functions as Methods"
   ]
  },
  {
   "cell_type": "markdown",
   "metadata": {
    "slideshow": {
     "slide_type": "subslide"
    }
   },
   "source": [
    "- A method is a function in a class\n",
    "- A standalone function"
   ]
  },
  {
   "cell_type": "code",
   "execution_count": null,
   "metadata": {
    "slideshow": {
     "slide_type": "subslide"
    }
   },
   "outputs": [],
   "source": [
    "class Point:\n",
    "    def __init__(self, x = 0, y = 0, name = \"None\"):\n",
    "        self.x = x\n",
    "        self.y = y\n",
    "        self.name = name\n",
    "    def __str__(self):\n",
    "         return \"Point at (%.2f,%.2f)\" %(self.x, self.y)\n",
    "\n",
    "def printPoint(point):\n",
    "    print (\"Point name: \", point.name)\n",
    "    print (point)\n",
    "\n",
    "#---------- invocation ----------\n",
    "pointOne = Point(200,300)\n",
    "pointTwo = Point(name = \"Boston\")\n",
    "printPoint(pointOne)\n",
    "printPoint(pointTwo)"
   ]
  },
  {
   "cell_type": "markdown",
   "metadata": {
    "slideshow": {
     "slide_type": "subslide"
    }
   },
   "source": [
    "A function as a method in a class. Check the dot __notation__:"
   ]
  },
  {
   "cell_type": "code",
   "execution_count": null,
   "metadata": {
    "slideshow": {
     "slide_type": "subslide"
    }
   },
   "outputs": [],
   "source": [
    "class Point:\n",
    "    def __init__(self, x = 0, y = 0, name = \"None\"):\n",
    "        self.x = x\n",
    "        self.y = y\n",
    "        self.name = name\n",
    "    def __str__(self):\n",
    "         return \"Point at (%.2f,%.2f)\" %(self.x, self.y)\n",
    "    def printPoint(self):\n",
    "        print (\"Point name: \", self.name)\n",
    "        print (self)\n",
    "#---------- invocation ----------\n",
    "pointOne = Point(200,300)\n",
    "pointTwo = Point(name = \"Boston\")\n",
    "\n",
    "pointOne.printPoint()\n",
    "pointTwo.printPoint()"
   ]
  }
 ],
 "metadata": {
  "celltoolbar": "Slideshow",
  "kernelspec": {
   "display_name": "Python 3",
   "language": "python",
   "name": "python3"
  },
  "language_info": {
   "codemirror_mode": {
    "name": "ipython",
    "version": 3
   },
   "file_extension": ".py",
   "mimetype": "text/x-python",
   "name": "python",
   "nbconvert_exporter": "python",
   "pygments_lexer": "ipython3",
   "version": "3.6.10"
  }
 },
 "nbformat": 4,
 "nbformat_minor": 4
}
