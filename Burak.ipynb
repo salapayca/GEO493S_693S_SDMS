{
 "cells": [
  {
   "cell_type": "code",
   "execution_count": 1,
   "id": "992ed2d3",
   "metadata": {},
   "outputs": [
    {
     "name": "stdout",
     "output_type": "stream",
     "text": [
      "1982 yilinda Burak 0 yasinda\n",
      "1983 yilinda Burak 1 yasinda\n",
      "1984 yilinda Burak 2 yasinda\n",
      "1985 yilinda Burak 3 yasinda\n",
      "1986 yilinda Burak 4 yasinda\n",
      "1987 yilinda Burak 5 yasinda\n",
      "1988 yilinda Burak 6 yasinda\n",
      "1989 yilinda Burak 7 yasinda\n",
      "1990 yilinda Burak 8 yasinda\n",
      "1991 yilinda Burak 9 yasinda\n",
      "1992 yilinda Burak 10 yasinda\n",
      "1993 yilinda Burak 11 yasinda\n",
      "1994 yilinda Burak 12 yasinda\n",
      "1995 yilinda Burak 13 yasinda\n",
      "1996 yilinda Burak 14 yasinda\n",
      "1997 yilinda Burak 15 yasinda\n",
      "1998 yilinda Burak 16 yasinda\n",
      "1999 yilinda Burak 17 yasinda\n",
      "2000 yilinda Burak 18 yasinda\n",
      "2001 yilinda Burak 19 yasinda\n",
      "2002 yilinda Burak 20 yasinda\n",
      "2003 yilinda Burak 21 yasinda\n",
      "2004 yilinda Burak 22 yasinda\n",
      "2005 yilinda Burak 23 yasinda\n",
      "2006 yilinda Burak 24 yasinda\n",
      "2007 yilinda Burak 25 yasinda\n",
      "2008 yilinda Burak 26 yasinda\n",
      "2009 yilinda Burak 27 yasinda\n",
      "2010 yilinda Burak 28 yasinda\n",
      "2011 yilinda Burak 29 yasinda\n",
      "2012 yilinda Burak 30 yasinda\n",
      "2013 yilinda Burak 31 yasinda\n",
      "2014 yilinda Burak 32 yasinda\n",
      "2015 yilinda Burak 33 yasinda\n",
      "2016 yilinda Burak 34 yasinda\n",
      "2017 yilinda Burak 35 yasinda\n",
      "2018 yilinda Burak 36 yasinda\n",
      "2019 yilinda Burak 37 yasinda\n",
      "2020 yilinda Burak 38 yasinda\n",
      "2021 yilinda Burak 39 yasinda\n",
      "2022 yilinda Burak 40 yasinda\n",
      "Happy birthday Burak :)!\n"
     ]
    }
   ],
   "source": [
    "current_year = 2022\n",
    "birth_year = 1982\n",
    "year=birth_year\n",
    "while year<=current_year:\n",
    "    print (str(year)+\" yilinda Burak \"+str(year-birth_year)+\" yasinda\")\n",
    "    year+=1\n",
    "print(\"Happy birthday Burak :)!\")"
   ]
  }
 ],
 "metadata": {
  "kernelspec": {
   "display_name": "Python 3",
   "language": "python",
   "name": "python3"
  },
  "language_info": {
   "codemirror_mode": {
    "name": "ipython",
    "version": 3
   },
   "file_extension": ".py",
   "mimetype": "text/x-python",
   "name": "python",
   "nbconvert_exporter": "python",
   "pygments_lexer": "ipython3",
   "version": "3.7.11"
  }
 },
 "nbformat": 4,
 "nbformat_minor": 5
}
