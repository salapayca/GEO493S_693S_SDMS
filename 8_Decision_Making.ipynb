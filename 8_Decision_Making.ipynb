{
 "cells": [
  {
   "cell_type": "markdown",
   "metadata": {
    "slideshow": {
     "slide_type": "slide"
    }
   },
   "source": [
    "# Block and Indendation in Python\n",
    "\n",
    "![indentation](Picture2.png)"
   ]
  },
  {
   "cell_type": "code",
   "execution_count": null,
   "metadata": {
    "slideshow": {
     "slide_type": "-"
    }
   },
   "outputs": [],
   "source": [
    "height = 7\n",
    "\n",
    "if height > 6:\n",
    "    print (\"You are too tall!\")"
   ]
  },
  {
   "cell_type": "markdown",
   "metadata": {
    "slideshow": {
     "slide_type": "slide"
    }
   },
   "source": [
    "## Conditional Statements if-else\n",
    "\n",
    "`if <condition>:\n",
    "    <statement>`\n",
    "    \n",
    "The `if` keyword is followed by a condition and then a **colon**. \n",
    "Then there is a block of code—that is, one or more lines indented in the same manner. \n",
    "- If the condition evaluates to **True**, the lines of code that make up the block are run. \n",
    "- If the condition evaluates to **False**, the lines of code are skipped, and the program moves on to the next statement after the if structure. \n",
    "\n",
    "*So how does Python know when you have reached the end of the if structure? *\n"
   ]
  },
  {
   "cell_type": "markdown",
   "metadata": {
    "slideshow": {
     "slide_type": "slide"
    }
   },
   "source": [
    "Let's start with basics: "
   ]
  },
  {
   "cell_type": "code",
   "execution_count": null,
   "metadata": {
    "slideshow": {
     "slide_type": "-"
    }
   },
   "outputs": [],
   "source": [
    "x=-1\n",
    "if x < 0:\n",
    "    print (\"x is negative\")\n",
    "elif x == 0:\n",
    "    print (\"x is zero\")\n",
    "else:\n",
    "    print (\"x is positive\")"
   ]
  },
  {
   "cell_type": "markdown",
   "metadata": {
    "slideshow": {
     "slide_type": "slide"
    }
   },
   "source": [
    "Remember your Lab 2 data? How about having a simple version? Let's find the maximum of this list. Hint : you can use `max()` function."
   ]
  },
  {
   "cell_type": "code",
   "execution_count": null,
   "metadata": {
    "slideshow": {
     "slide_type": "-"
    }
   },
   "outputs": [],
   "source": [
    "terrain = [9,1,2,14]\n",
    "\n",
    "max(terrain)"
   ]
  },
  {
   "cell_type": "markdown",
   "metadata": {
    "slideshow": {
     "slide_type": "slide"
    }
   },
   "source": [
    "That was easy. How about practicing if-else and finding the maximum. How should we get the maximum of the list? But before that let's understand how machines can find the maximum in a binary operation. \n",
    "\n",
    "![findingmax](findingmax.png)"
   ]
  },
  {
   "cell_type": "code",
   "execution_count": null,
   "metadata": {
    "slideshow": {
     "slide_type": "-"
    }
   },
   "outputs": [],
   "source": [
    "maximum = 0"
   ]
  },
  {
   "cell_type": "code",
   "execution_count": null,
   "metadata": {
    "slideshow": {
     "slide_type": "slide"
    }
   },
   "outputs": [],
   "source": [
    "terrain = [9,16,2,14]\n",
    "\n",
    "maximum = 0\n",
    "\n",
    "if terrain[0]>maximum:\n",
    "    print (\"New maximum is : \", terrain[0])\n",
    "    maximum=terrain[0]\n",
    "if terrain[1]>maximum:\n",
    "    print (\"New maximum is : \", terrain[1])\n",
    "    maximum=terrain[1]\n",
    "if terrain[2]>maximum:\n",
    "    print (\"New maximum is : \", terrain[2])\n",
    "    maximum=terrain[2]\n",
    "if terrain[3]>maximum:\n",
    "    print (\"New maximum is : \", terrain[3])\n",
    "    maximum=terrain[3]\n",
    "\n",
    "\n",
    "print(maximum)"
   ]
  },
  {
   "cell_type": "markdown",
   "metadata": {
    "slideshow": {
     "slide_type": "slide"
    }
   },
   "source": [
    "What should I fix below?"
   ]
  },
  {
   "cell_type": "code",
   "execution_count": null,
   "metadata": {
    "slideshow": {
     "slide_type": "-"
    }
   },
   "outputs": [],
   "source": [
    "maximum=0\n",
    "terrain = [9,16,2,14]\n",
    "\n",
    "for i in range(0, len(terrain)):\n",
    "    if terrain [i]>maximum:\n",
    "        print (\"New maximum is : \", terrain[i])\n",
    "        maximum=terrain[i]\n",
    "\n",
    "print(maximum)"
   ]
  },
  {
   "cell_type": "code",
   "execution_count": null,
   "metadata": {
    "slideshow": {
     "slide_type": "slide"
    }
   },
   "outputs": [],
   "source": [
    "maximum=0\n",
    "for i in range(0, len(terrain)):\n",
    "    if terrain [i]>maximum:\n",
    "        print (\"New maximum is : \", terrain[i])\n",
    "        maximum=terrain[i]\n",
    "        "
   ]
  },
  {
   "cell_type": "markdown",
   "metadata": {
    "slideshow": {
     "slide_type": "slide"
    }
   },
   "source": [
    "can you find the maximum of this?"
   ]
  },
  {
   "cell_type": "code",
   "execution_count": null,
   "metadata": {
    "slideshow": {
     "slide_type": "-"
    }
   },
   "outputs": [],
   "source": [
    "terrain = [[9,10],[2,4]]\n",
    "\n",
    "max(terrain)"
   ]
  },
  {
   "cell_type": "code",
   "execution_count": 6,
   "metadata": {
    "slideshow": {
     "slide_type": "slide"
    }
   },
   "outputs": [
    {
     "name": "stdout",
     "output_type": "stream",
     "text": [
      "10\n",
      "4\n"
     ]
    }
   ],
   "source": [
    "terrain = [[9,10],[2,4]]\n",
    "\n",
    "\n",
    "for i in range(0, len(terrain)):\n",
    "  \n",
    "    print(max(terrain[i]))\n",
    "  "
   ]
  },
  {
   "cell_type": "code",
   "execution_count": 18,
   "metadata": {
    "slideshow": {
     "slide_type": "slide"
    }
   },
   "outputs": [
    {
     "name": "stdout",
     "output_type": "stream",
     "text": [
      "0\n"
     ]
    }
   ],
   "source": [
    "terrain = [[9,10,13,8],[2,0,4,4],[5,9,1,4]]\n",
    "\n",
    "maximum=0\n",
    "n_rows= len(terrain)\n",
    "n_cols=len(terrain[0])\n",
    "\n",
    "\n",
    "for row in range(0,n_rows):\n",
    "    for col in range(0,n_cols):\n",
    "        if terrain[row][col]<maximum:\n",
    "            maximum=terrain[row][col]\n",
    "        \n",
    "print(maximum)     \n"
   ]
  },
  {
   "cell_type": "code",
   "execution_count": null,
   "metadata": {},
   "outputs": [],
   "source": [
    "for row in range(0, len(terrain)):\n",
    "    for col in range(0, len(terrain[0])):\n",
    "        #print(terrain[row][col])\n",
    "        if terrain [row][col]>maximum:\n",
    "         #   print (\"New maximum is : \", terrain[row][col])\n",
    "            maximum=terrain[row][col]\n",
    "print(maximum)"
   ]
  }
 ],
 "metadata": {
  "celltoolbar": "Slideshow",
  "kernelspec": {
   "display_name": "Python 3 (ipykernel)",
   "language": "python",
   "name": "python3"
  },
  "language_info": {
   "codemirror_mode": {
    "name": "ipython",
    "version": 3
   },
   "file_extension": ".py",
   "mimetype": "text/x-python",
   "name": "python",
   "nbconvert_exporter": "python",
   "pygments_lexer": "ipython3",
   "version": "3.7.10"
  }
 },
 "nbformat": 4,
 "nbformat_minor": 2
}
