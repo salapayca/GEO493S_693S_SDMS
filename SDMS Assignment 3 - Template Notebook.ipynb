{
 "cells": [
  {
   "cell_type": "markdown",
   "id": "5e2cb0ea-ac09-492f-93e9-958ae4fa27b8",
   "metadata": {},
   "source": [
    "# Spatial Decision Making Assignment 3"
   ]
  },
  {
   "cell_type": "markdown",
   "id": "e21c92d3-ea2e-4469-a014-8f5a991aeb20",
   "metadata": {},
   "source": [
    "In this assignment, you will write Python code that returns basic statistics about a grid.\n",
    "\n",
    "This Jupyter notebook is editable. The grey cells below this text are Python code that can be edited and executed with the \"run\" button (▶).\n",
    "\n",
    "We start by creating a sample grid that you will perform operations on.  The variable `smallGrid`points is a 2-dimensional array with 4 columns and 4 rows. Its structure is a list of 4 lists with 4 items inside each. Run the cell below to create the variable `smallGrid` and retrieve it.\n",
    "\n",
    "## Notes\n",
    "\n",
    "If you restart your computer, or the Python kernel that is running your notebook, the variables stored in memory will be lost, and you will get errors that your variable `smallGrid` doesn't exist. To continue working on your notebook after a restart, use the \"Run All Above\" feature in the Cell menu.\n",
    "\n",
    "Many of the functions you employ in this assignment are \"built-in\" functions of Python, i.e. the common set of functions that operate upon the basic objects in Python. The documentation for all of them is here: <https://docs.python.org/3/library/functions.html>. In many prompts the link directly to the function reference is given."
   ]
  },
  {
   "cell_type": "code",
   "execution_count": null,
   "id": "97fbc956-f474-407a-a37c-08dbefba0946",
   "metadata": {},
   "outputs": [],
   "source": [
    "smallGrid =  [[1,2,0,1],\n",
    "              [0,2,3,2],\n",
    "              [1,0,0,3],\n",
    "              [2,0,0,0,]]\n",
    "\n",
    "smallGrid"
   ]
  },
  {
   "cell_type": "markdown",
   "id": "7146c99b-1e8c-4d7b-8690-19f3b4fa40c3",
   "metadata": {},
   "source": [
    "## Number of rows (2 points)\n",
    "\n",
    "Write code that returns the number of rows in the grid.\n",
    "\n",
    "Hint: <https://docs.python.org/3/library/functions.html#len>"
   ]
  },
  {
   "cell_type": "code",
   "execution_count": null,
   "id": "cb58eac0-b9b4-46b9-930c-a39d4ff11a13",
   "metadata": {},
   "outputs": [],
   "source": [
    "len(smallGrid[0])"
   ]
  },
  {
   "cell_type": "markdown",
   "id": "ac74d55f-4aa0-41bd-bc78-2cc31dcdee2d",
   "metadata": {},
   "source": [
    "## Number of columns (2 points)\n",
    "\n",
    "Write code that will return the number of columns in the grid. You can reuse the code from above, combined with what you've learned about getting values by their index in a list."
   ]
  },
  {
   "cell_type": "code",
   "execution_count": null,
   "id": "f0d58bca-2be1-48bb-abfb-33bb98a2cf86",
   "metadata": {},
   "outputs": [],
   "source": [
    "len(smallGrid)"
   ]
  },
  {
   "cell_type": "markdown",
   "id": "0c747536-6b78-4d7a-b4f9-835f12bd906f",
   "metadata": {},
   "source": [
    "## Display the sum of the grid. (2 points)\n",
    "\n",
    "What is the sum of all of the values in the grid?\n",
    "\n",
    "Hint 1: List Comprehensions <https://www.w3schools.com/python/python_lists_comprehension.asp>  \n",
    "Hint 2: `sum()` <https://docs.python.org/3/library/functions.html#sum>"
   ]
  },
  {
   "cell_type": "code",
   "execution_count": null,
   "id": "08578949-ccca-405a-9b1c-e55c8b967ce0",
   "metadata": {},
   "outputs": [],
   "source": [
    "newlist=[]\n",
    "\n",
    "for item in smallGrid:\n",
    "    newlist.append(item)\n",
    "    \n"
   ]
  },
  {
   "cell_type": "markdown",
   "id": "ab6b0fdb-05a6-447a-a00d-3ea3bf36cfed",
   "metadata": {},
   "source": [
    "## Grid average (1 point)\n",
    "\n",
    "Write code that returns the average or mean value of the grid.\n",
    "\n",
    "Alternative option: `numpy` arrays have a built-in function for doing this."
   ]
  },
  {
   "cell_type": "code",
   "execution_count": null,
   "id": "c1d30695-e71e-499e-9696-da06119bc67a",
   "metadata": {},
   "outputs": [],
   "source": [
    "# your code here"
   ]
  },
  {
   "cell_type": "markdown",
   "id": "8aafd163-a256-4bf2-ae57-bd50af0cd64e",
   "metadata": {},
   "source": [
    "## Maximum value of the grid (1.5 points)\n",
    "\n",
    "Hint: You can create an empty list, `maximums`, and use `.append()` to get a list of the maximum for each row, then get the maximum of that."
   ]
  },
  {
   "cell_type": "code",
   "execution_count": null,
   "id": "d943ea79-23b7-4abb-b409-3d18a3df9803",
   "metadata": {},
   "outputs": [],
   "source": [
    "# your code here"
   ]
  },
  {
   "cell_type": "markdown",
   "id": "08dae438-d35a-429a-abfb-c7936c4ab5e3",
   "metadata": {},
   "source": [
    "## Minimum value (1.5 points)\n",
    "\n",
    "Hint: You can mostly reuse the code from above and replace the appropriate function to get the minimums."
   ]
  },
  {
   "cell_type": "code",
   "execution_count": null,
   "id": "b6394cac-fb71-4f9c-891d-44649fa92d69",
   "metadata": {},
   "outputs": [],
   "source": [
    "# your code here"
   ]
  },
  {
   "cell_type": "markdown",
   "id": "a2c63149-fcec-4858-96ea-54a93166a016",
   "metadata": {},
   "source": [
    "## Range (1 point)\n",
    "\n",
    "What is the difference between the highest and lowest values inside `smallGrid`?"
   ]
  },
  {
   "cell_type": "code",
   "execution_count": null,
   "id": "2c073bc8-cb26-4253-a152-04a4fd34d5f7",
   "metadata": {},
   "outputs": [],
   "source": [
    "# your code here"
   ]
  },
  {
   "cell_type": "markdown",
   "id": "e59d503a-4f2e-46d3-bc22-4dbde62fa2aa",
   "metadata": {},
   "source": [
    "## Values of a row given by user input (3 points)\n",
    "\n",
    "Write code that returns the values of a row given by the user. Use the `input()` built-in function to prompt the user for the row number: <https://docs.python.org/3/library/functions.html#input>\n",
    "\n",
    "Remember that the first item in a Python list has the index 0. Your code will need to adjust for this fact."
   ]
  },
  {
   "cell_type": "code",
   "execution_count": null,
   "id": "6a8b25c4-a625-41ee-ae06-88e063fbd44b",
   "metadata": {},
   "outputs": [],
   "source": [
    "# your code here"
   ]
  },
  {
   "cell_type": "markdown",
   "id": "e51859d9-b74e-494b-8f3d-ef1341b3ed72",
   "metadata": {},
   "source": [
    "## Get values at a coordinate (3 points)\n",
    "\n",
    "Using `input()`, get coordinates of a cell in `smallGrid` from the user at `X` and `Y` coordinates.\n",
    "\n",
    "For example, given the input \"`1 3`\", your function will return the first value of the third row.\n",
    "\n",
    "Your function should properly handle incorrect input - if the user enters \"`5 1`\", it should return an error, because there is no fifth column in `smallGrid`."
   ]
  },
  {
   "cell_type": "code",
   "execution_count": null,
   "id": "7c207755-3e26-49fb-bba6-c273badb158d",
   "metadata": {},
   "outputs": [],
   "source": [
    "# your code here"
   ]
  },
  {
   "cell_type": "markdown",
   "id": "ec14bd1d-a253-4a6b-9a9a-24af56e74e7c",
   "metadata": {},
   "source": [
    "## Enumerate the grid using `enumerate()` (3 points)\n",
    "\n",
    "Use the `enumerate()` function to print each row of the grid.\n",
    "\n",
    "Function reference: <https://docs.python.org/3/library/functions.html#enumerate>\n",
    "\n"
   ]
  },
  {
   "cell_type": "code",
   "execution_count": null,
   "id": "ad302ae1-5d09-4e1b-a011-6703b3e52737",
   "metadata": {},
   "outputs": [],
   "source": [
    "# your code here"
   ]
  }
 ],
 "metadata": {
  "kernelspec": {
   "display_name": "Python 3 (ipykernel)",
   "language": "python",
   "name": "python3"
  },
  "language_info": {
   "codemirror_mode": {
    "name": "ipython",
    "version": 3
   },
   "file_extension": ".py",
   "mimetype": "text/x-python",
   "name": "python",
   "nbconvert_exporter": "python",
   "pygments_lexer": "ipython3",
   "version": "3.7.10"
  }
 },
 "nbformat": 4,
 "nbformat_minor": 5
}
