{
 "cells": [
  {
   "cell_type": "markdown",
   "metadata": {
    "rise": {
     "autolaunch": true
    },
    "slideshow": {
     "slide_type": "slide"
    }
   },
   "source": [
    "## HANDS-ON TIME \n",
    "\n"
   ]
  },
  {
   "cell_type": "markdown",
   "metadata": {
    "slideshow": {
     "slide_type": "slide"
    }
   },
   "source": [
    "1. Practice while loop with else from [Programiz.com](https://www.programiz.com/python-programming/while-loop). You can use the empty code cell below to test your codes."
   ]
  },
  {
   "cell_type": "code",
   "execution_count": 1,
   "metadata": {
    "slideshow": {
     "slide_type": "fragment"
    }
   },
   "outputs": [
    {
     "name": "stdout",
     "output_type": "stream",
     "text": [
      "Inside loop\n",
      "1\n",
      "Inside loop\n",
      "2\n",
      "Inside loop\n",
      "3\n",
      "Inside else\n"
     ]
    }
   ],
   "source": [
    "#while loop with else\n",
    "\n",
    "counter = 0\n",
    "\n",
    "while counter<3 :\n",
    "    print (\"Inside loop\")\n",
    "    counter = counter +1\n",
    "    print(counter)\n",
    "else:\n",
    "    print (\"Inside else\")"
   ]
  },
  {
   "cell_type": "markdown",
   "metadata": {
    "slideshow": {
     "slide_type": "slide"
    }
   },
   "source": [
    "<center><img src=\"https://i.etsystatic.com/6854467/r/il/87fa53/1383013322/il_570xN.1383013322_31ab.jpg\" width=300 height=300 align=\"center\"/></center>"
   ]
  },
  {
   "cell_type": "markdown",
   "metadata": {
    "slideshow": {
     "slide_type": "fragment"
    }
   },
   "source": [
    "2. Imagine you are in a _Python_ restaurant which serves menu as a list. And, you are a hungry caterpillar who wants to eat everything! And frankly, you can order your food by print statements. Write a for loop to print the names of the foods that you want to eat. "
   ]
  },
  {
   "cell_type": "code",
   "execution_count": 2,
   "metadata": {
    "slideshow": {
     "slide_type": "fragment"
    }
   },
   "outputs": [
    {
     "name": "stdout",
     "output_type": "stream",
     "text": [
      "I would like one ice-cream cone\n",
      "I would like one pickle\n",
      "I would like one slice of Swiss cheese\n",
      "I would like one slice of salami\n",
      "I would like one lollipop\n",
      "I would like one piece of cherry pie\n",
      "I would like one sausage\n",
      "I would like one cupcake and one slice of watermelon\n"
     ]
    },
    {
     "data": {
      "text/plain": [
       "8"
      ]
     },
     "execution_count": 2,
     "metadata": {},
     "output_type": "execute_result"
    }
   ],
   "source": [
    "menu_pycafe = [\"one ice-cream cone\", \"one pickle\", \"one slice of Swiss cheese\", \"one slice of salami\",\n",
    "               \"one lollipop\", \"one piece of cherry pie\", \"one sausage\", \"one cupcake and one slice of watermelon\"]\n",
    "#your code goes here\n",
    "\n",
    "for i in menu_pycafe:\n",
    "    print (\"I would like \" +i)\n",
    "len(menu_pycafe)"
   ]
  },
  {
   "cell_type": "markdown",
   "metadata": {
    "slideshow": {
     "slide_type": "slide"
    }
   },
   "source": [
    "<center><img src=\"https://static1.squarespace.com/static/5c62c09c4d546e27dc1016c7/5c71f65a9140b72b900c47e2/5c846bca24a694a6a027ee65/1552182810224/BTTF+In+Concert.jpg?format=500w\" width=300 height=300/></center>"
   ]
  },
  {
   "cell_type": "markdown",
   "metadata": {
    "slideshow": {
     "slide_type": "fragment"
    }
   },
   "source": [
    "3. You have a time machine which will take you from 2020 to 2050, and you would like to write a count-down script so that you will know which year you are in! Use a while loop to count down and don't forget to print each year that you pass, Marty! "
   ]
  },
  {
   "cell_type": "code",
   "execution_count": null,
   "metadata": {
    "slideshow": {
     "slide_type": "fragment"
    }
   },
   "outputs": [],
   "source": [
    "#your code goes here"
   ]
  }
 ],
 "metadata": {
  "kernelspec": {
   "display_name": "Python 3",
   "language": "python",
   "name": "python3"
  },
  "language_info": {
   "codemirror_mode": {
    "name": "ipython",
    "version": 3
   },
   "file_extension": ".py",
   "mimetype": "text/x-python",
   "name": "python",
   "nbconvert_exporter": "python",
   "pygments_lexer": "ipython3",
   "version": "3.7.11"
  }
 },
 "nbformat": 4,
 "nbformat_minor": 4
}
