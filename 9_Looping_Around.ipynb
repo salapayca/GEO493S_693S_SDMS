{
 "cells": [
  {
   "cell_type": "markdown",
   "metadata": {
    "slideshow": {
     "slide_type": "slide"
    }
   },
   "source": [
    "# Looping Syntax \n",
    "\n",
    "Loops are used for repetitive tasks:\n",
    "\n",
    "Instead of this:\n",
    "\n",
    "`print(\"string\")\n",
    " print(\"string\")\n",
    " print(\"string\")\n",
    " print(\"string\")`\n",
    "...\n",
    "\n",
    "You can do this:\n",
    "\n",
    "`x=1\n",
    " while x<5:\n",
    "    print(\"string\")`"
   ]
  },
  {
   "cell_type": "code",
   "execution_count": 13,
   "metadata": {
    "slideshow": {
     "slide_type": "slide"
    }
   },
   "outputs": [
    {
     "name": "stdout",
     "output_type": "stream",
     "text": [
      "string\n",
      "Current x  is : 1\n",
      "Final x  is : 2\n",
      "string\n",
      "Current x  is : 2\n",
      "Final x  is : 3\n",
      "string\n",
      "Current x  is : 3\n",
      "Final x  is : 4\n",
      "string\n",
      "Current x  is : 4\n",
      "Final x  is : 5\n"
     ]
    }
   ],
   "source": [
    "x=1\n",
    "while x<5:\n",
    "    print(\"string\")\n",
    "    print(\"Current x  is :\",x)\n",
    "    x=x+1\n",
    "    print(\"Final x  is :\",x)"
   ]
  },
  {
   "cell_type": "markdown",
   "metadata": {
    "slideshow": {
     "slide_type": "slide"
    }
   },
   "source": [
    "## Counted Loop\n",
    "\n",
    "`for x in range(1,5):\n",
    "    print (x)`"
   ]
  },
  {
   "cell_type": "code",
   "execution_count": 14,
   "metadata": {
    "slideshow": {
     "slide_type": "-"
    }
   },
   "outputs": [
    {
     "name": "stdout",
     "output_type": "stream",
     "text": [
      "1\n",
      "2\n",
      "3\n",
      "4\n"
     ]
    }
   ],
   "source": [
    "for x in range(1,5):\n",
    "    print(x)"
   ]
  },
  {
   "cell_type": "code",
   "execution_count": 24,
   "metadata": {
    "slideshow": {
     "slide_type": "slide"
    }
   },
   "outputs": [
    {
     "name": "stdout",
     "output_type": "stream",
     "text": [
      "range(0, 10)\n",
      "0 python\n",
      "1 python\n",
      "2 python\n",
      "3 python\n",
      "4 python\n",
      "5 python\n",
      "6 python\n",
      "7 python\n",
      "8 python\n",
      "9 python\n"
     ]
    }
   ],
   "source": [
    "# counted loop\n",
    "n = range(10)\n",
    "print(n)\n",
    "for i in n:\n",
    "    print (i, \"python\")"
   ]
  },
  {
   "cell_type": "markdown",
   "metadata": {},
   "source": [
    "## List Loop\n",
    "\n",
    "- Lost loops iterate over eh value in a list\n",
    "- The loop will execute once for each value in the list"
   ]
  },
  {
   "cell_type": "code",
   "execution_count": 37,
   "metadata": {
    "slideshow": {
     "slide_type": "slide"
    }
   },
   "outputs": [
    {
     "data": {
      "text/plain": [
       "2"
      ]
     },
     "execution_count": 37,
     "metadata": {},
     "output_type": "execute_result"
    }
   ],
   "source": [
    "# list loop\n",
    "mylist = [[1,2],[3,6],[4,5]]\n",
    "# number of columns in a multi dimensional list - len(mylist[0]) ->2\n",
    "# number of rows len(mylist) ->3\n",
    "for item in mylist:   \n",
    "    print (item, \"times Python\")"
   ]
  },
  {
   "cell_type": "code",
   "execution_count": 43,
   "metadata": {
    "slideshow": {
     "slide_type": "slide"
    }
   },
   "outputs": [
    {
     "name": "stdout",
     "output_type": "stream",
     "text": [
      "1000\n",
      "4\n",
      "999\n",
      "3\n",
      "998\n",
      "2\n",
      "997\n",
      "1\n",
      "996\n",
      "0\n",
      "996\n"
     ]
    }
   ],
   "source": [
    "# breaking out of loops\n",
    "# find the maximum number below 1000 that divides by 12\n",
    "for n in range(1000, 0, -1):\n",
    "    print(n)\n",
    "    div = n % 12\n",
    "    print(div)\n",
    "    if div == 0:\n",
    "        print (n)\n",
    "        break\n",
    "\n",
    "\n"
   ]
  },
  {
   "cell_type": "markdown",
   "metadata": {
    "slideshow": {
     "slide_type": "-"
    }
   },
   "source": [
    "Q1)Why use break above?"
   ]
  },
  {
   "cell_type": "code",
   "execution_count": 10,
   "metadata": {
    "slideshow": {
     "slide_type": "slide"
    }
   },
   "outputs": [
    {
     "name": "stdout",
     "output_type": "stream",
     "text": [
      "[0.1, 1]\n",
      "[0.1, 1, 0.5, 11]\n",
      "[0.1, 1, 0.5, 11, 0.8, 3]\n",
      "[0.06, 0.6, 0.3, 6.6, 0.48, 1.7999999999999998]\n"
     ]
    }
   ],
   "source": [
    "cv = [[0.1,1],[0.5,11],[0.8,3]]\n",
    "cw=0.6\n",
    "\n",
    "#calculate overall score list for single criterion\n",
    "\n",
    "dlist = []\n",
    "for i in cv:\n",
    "    dlist = dlist +i\n",
    "    print(dlist)\n",
    "    \n",
    "   # overall = i*cw\n",
    "   #print(overall)\n",
    "    \n",
    "overalls=[]\n",
    "for i in dlist:\n",
    "    overall= i*cw\n",
    "    overalls.append(overall)\n",
    "    \n",
    "print(overalls)    \n",
    "#for i in range(0, len(cv)):\n",
    "#    print(i)"
   ]
  },
  {
   "cell_type": "code",
   "execution_count": null,
   "metadata": {
    "slideshow": {
     "slide_type": "notes"
    }
   },
   "outputs": [],
   "source": [
    "cv = [0.1,0.5,0.8]\n",
    "cw=0.6\n",
    "\n",
    "overall =[]\n",
    "\n",
    "for i in range(0, len(cv)):\n",
    "    overall.append(cv[i]*cw)\n",
    "    \n",
    "print (overall)"
   ]
  },
  {
   "cell_type": "code",
   "execution_count": null,
   "metadata": {
    "scrolled": true,
    "slideshow": {
     "slide_type": "slide"
    }
   },
   "outputs": [],
   "source": [
    "cv1= [0.1,0.5,0.8]\n",
    "cv2 = [0.2,0.3,0.4]\n",
    "cw=[0.6, 0.4]\n",
    "overalls=[]\n",
    "\n",
    "\n",
    "\n",
    "#check if the both criterion has the equal number of elements\n",
    "#calculate overall score list for criteria"
   ]
  },
  {
   "cell_type": "code",
   "execution_count": 17,
   "metadata": {
    "slideshow": {
     "slide_type": "slide"
    }
   },
   "outputs": [
    {
     "name": "stdout",
     "output_type": "stream",
     "text": [
      "[0.14, 0.42, 0.64]\n"
     ]
    }
   ],
   "source": [
    "cv1= [0.1,0.5,0.8]\n",
    "cv2 = [0.2,0.3,0.4]\n",
    "cw=[0.6, 0.4]\n",
    "overalls=[]\n",
    "\n",
    "cw[1]\n",
    "\n",
    "if len(cv1)==len(cv2):\n",
    "    for i in range(0,len(cv1)):                \n",
    "        overall = cv1[i]*0.6+cv2[i]*0.4\n",
    "        \n",
    "        overalls.append(overall)\n",
    "    print(overalls)\n",
    "else:\n",
    "    print(\"Criteria lists are not equal!\")"
   ]
  }
 ],
 "metadata": {
  "celltoolbar": "Slideshow",
  "kernelspec": {
   "display_name": "Python 3 (ipykernel)",
   "language": "python",
   "name": "python3"
  },
  "language_info": {
   "codemirror_mode": {
    "name": "ipython",
    "version": 3
   },
   "file_extension": ".py",
   "mimetype": "text/x-python",
   "name": "python",
   "nbconvert_exporter": "python",
   "pygments_lexer": "ipython3",
   "version": "3.7.10"
  }
 },
 "nbformat": 4,
 "nbformat_minor": 2
}
