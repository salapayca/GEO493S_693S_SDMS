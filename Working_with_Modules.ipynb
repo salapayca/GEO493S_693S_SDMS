{
 "cells": [
  {
   "cell_type": "markdown",
   "metadata": {
    "slideshow": {
     "slide_type": "slide"
    }
   },
   "source": [
    "# Import < module >"
   ]
  },
  {
   "cell_type": "markdown",
   "metadata": {
    "slideshow": {
     "slide_type": "fragment"
    }
   },
   "source": [
    "We can import modules to our script whenever we need to increase<br>\n",
    "the existing Python cababilities. Let's start with math module."
   ]
  },
  {
   "cell_type": "code",
   "execution_count": 2,
   "metadata": {
    "slideshow": {
     "slide_type": "fragment"
    }
   },
   "outputs": [
    {
     "data": {
      "text/plain": [
       "2.0"
      ]
     },
     "execution_count": 2,
     "metadata": {},
     "output_type": "execute_result"
    }
   ],
   "source": [
    "import math\n",
    "math.sqrt(4)"
   ]
  },
  {
   "cell_type": "markdown",
   "metadata": {
    "slideshow": {
     "slide_type": "fragment"
    }
   },
   "source": [
    "If you would like to learn more about the functions under math module,<br>\n",
    "you can use dir() function to see existing functions. Also, you can refer to : https://docs.python.org/3/library/math.html"
   ]
  },
  {
   "cell_type": "code",
   "execution_count": 3,
   "metadata": {
    "slideshow": {
     "slide_type": "fragment"
    }
   },
   "outputs": [
    {
     "data": {
      "text/plain": [
       "['__doc__',\n",
       " '__loader__',\n",
       " '__name__',\n",
       " '__package__',\n",
       " '__spec__',\n",
       " 'acos',\n",
       " 'acosh',\n",
       " 'asin',\n",
       " 'asinh',\n",
       " 'atan',\n",
       " 'atan2',\n",
       " 'atanh',\n",
       " 'ceil',\n",
       " 'copysign',\n",
       " 'cos',\n",
       " 'cosh',\n",
       " 'degrees',\n",
       " 'e',\n",
       " 'erf',\n",
       " 'erfc',\n",
       " 'exp',\n",
       " 'expm1',\n",
       " 'fabs',\n",
       " 'factorial',\n",
       " 'floor',\n",
       " 'fmod',\n",
       " 'frexp',\n",
       " 'fsum',\n",
       " 'gamma',\n",
       " 'gcd',\n",
       " 'hypot',\n",
       " 'inf',\n",
       " 'isclose',\n",
       " 'isfinite',\n",
       " 'isinf',\n",
       " 'isnan',\n",
       " 'ldexp',\n",
       " 'lgamma',\n",
       " 'log',\n",
       " 'log10',\n",
       " 'log1p',\n",
       " 'log2',\n",
       " 'modf',\n",
       " 'nan',\n",
       " 'pi',\n",
       " 'pow',\n",
       " 'radians',\n",
       " 'sin',\n",
       " 'sinh',\n",
       " 'sqrt',\n",
       " 'tan',\n",
       " 'tanh',\n",
       " 'tau',\n",
       " 'trunc']"
      ]
     },
     "execution_count": 3,
     "metadata": {},
     "output_type": "execute_result"
    }
   ],
   "source": [
    "dir(math)"
   ]
  },
  {
   "cell_type": "markdown",
   "metadata": {
    "slideshow": {
     "slide_type": "slide"
    }
   },
   "source": [
    "If you are sure that you won't need anything but __pow()__ then you don't<br>\n",
    "need to import all the functions under math module. <br>\n",
    "You can import the __pow()__ as follows:"
   ]
  },
  {
   "cell_type": "code",
   "execution_count": 8,
   "metadata": {
    "slideshow": {
     "slide_type": "fragment"
    }
   },
   "outputs": [
    {
     "data": {
      "text/plain": [
       "3.4641016151377544"
      ]
     },
     "execution_count": 8,
     "metadata": {},
     "output_type": "execute_result"
    }
   ],
   "source": [
    "import math as mt\n",
    "mt.sqrt(12)"
   ]
  },
  {
   "cell_type": "markdown",
   "metadata": {
    "slideshow": {
     "slide_type": "slide"
    }
   },
   "source": [
    "You might want to print your execution time to see how long your geoprocess takes. <br>\n",
    "You can use time module to get that information."
   ]
  },
  {
   "cell_type": "code",
   "execution_count": 9,
   "metadata": {
    "slideshow": {
     "slide_type": "fragment"
    }
   },
   "outputs": [
    {
     "data": {
      "text/plain": [
       "'Fri Aug 21 11:10:47 2020'"
      ]
     },
     "execution_count": 9,
     "metadata": {},
     "output_type": "execute_result"
    }
   ],
   "source": [
    "import time\n",
    "time.asctime()"
   ]
  },
  {
   "cell_type": "markdown",
   "metadata": {
    "slideshow": {
     "slide_type": "fragment"
    }
   },
   "source": [
    "There is another function called time() which returns the current time as <br>\n",
    "the number of seconds since the unix time - 0 hours in __January 1st, 1970__. <br>\n",
    "So let's see how many seconds past since then:"
   ]
  },
  {
   "cell_type": "code",
   "execution_count": 10,
   "metadata": {
    "slideshow": {
     "slide_type": "fragment"
    }
   },
   "outputs": [
    {
     "data": {
      "text/plain": [
       "1598022690.5991132"
      ]
     },
     "execution_count": 10,
     "metadata": {},
     "output_type": "execute_result"
    }
   ],
   "source": [
    "time.time()"
   ]
  },
  {
   "cell_type": "markdown",
   "metadata": {
    "slideshow": {
     "slide_type": "subslide"
    }
   },
   "source": [
    "Can you convert this to more meaningful hours and days as the output of __asctime()__? Let's try:"
   ]
  },
  {
   "cell_type": "code",
   "execution_count": 14,
   "metadata": {
    "slideshow": {
     "slide_type": "subslide"
    }
   },
   "outputs": [
    {
     "name": "stdout",
     "output_type": "stream",
     "text": [
      "1598022751.6746147\n"
     ]
    }
   ],
   "source": [
    "epoc_time = time.time()\n",
    "print (epoc_time)"
   ]
  },
  {
   "cell_type": "markdown",
   "metadata": {
    "slideshow": {
     "slide_type": "slide"
    }
   },
   "source": [
    "## Examples on Time"
   ]
  },
  {
   "cell_type": "markdown",
   "metadata": {
    "slideshow": {
     "slide_type": "subslide"
    }
   },
   "source": [
    "*From https://en.wikipedia.org/wiki/Unix_time\n",
    "\n",
    "*The Unix time number is zero at the Unix epoch, and increases by exactly 86400 per<br>\n",
    "day since the epoch. Thus 2004-09*\n",
    "*16T00:00:00Z, 12677 days after the epoch, <br>is represented by the Unix time number<br>\n",
    "12677 × 86400 = 1095292800. This can be* *extended backwards from the epoch too,<br>\n",
    "using negative numbers; thus 1957-10-04T00:00:00Z, 4472 days before the epoch,<br>\n",
    "is* *represented by the Unix time number −4472 × 86400 = −386380800. <br>\n",
    "This applies within days as well; the time number at any *given* time of a day<br>\n",
    "is the number of seconds that has passed since the midnight starting that day <br>\n",
    "added to the time number of *that* midnight.*\n",
    "\n",
    "So let's make a simple calculation to see how many seconds has passed since<br>\n",
    "Unix Epoch!"
   ]
  },
  {
   "cell_type": "code",
   "execution_count": 15,
   "metadata": {
    "slideshow": {
     "slide_type": "subslide"
    }
   },
   "outputs": [
    {
     "name": "stdout",
     "output_type": "stream",
     "text": [
      "Approximately 1595289600 seconds passed since Unix Epoch! \n"
     ]
    }
   ],
   "source": [
    "year = 2020\n",
    "month = 7\n",
    "day = 21\n",
    "\n",
    "epoch_year = 1970\n",
    "epoch_month = 1\n",
    "epoch_day = 1\n",
    "\n",
    "days_passed = (year-epoch_year)*365+(month-epoch_month)*30+(day-epoch_day+1)+13 # the last addtion is due to leap\n",
    "                                                                                # years\n",
    "                                                                                # you can also include the hours,\n",
    "                                                                                # min, and \n",
    "                                                                                # seconds while you are repeating \n",
    "                                                                                # the exercise\n",
    "\n",
    "unix_time_increment = 86400\n",
    "\n",
    "epoch_time = unix_time_increment*days_passed\n",
    "\n",
    "print(f\"Approximately {epoch_time} seconds passed since Unix Epoch! \")"
   ]
  },
  {
   "cell_type": "markdown",
   "metadata": {
    "slideshow": {
     "slide_type": "slide"
    }
   },
   "source": [
    "If you wonder where that 13 come from:"
   ]
  },
  {
   "cell_type": "code",
   "execution_count": null,
   "metadata": {
    "scrolled": true,
    "slideshow": {
     "slide_type": "subslide"
    }
   },
   "outputs": [],
   "source": [
    "#OPTION 1\n",
    "\n",
    "years_btw = list(range(1970,2021))\n",
    "count = 0\n",
    "for year in years_btw:\n",
    "    if (year % 4) == 0:\n",
    "        print (f\"{year} is a leap year\")\n",
    "        count = count + 1\n",
    "print (count)"
   ]
  },
  {
   "cell_type": "code",
   "execution_count": null,
   "metadata": {
    "slideshow": {
     "slide_type": "subslide"
    }
   },
   "outputs": [],
   "source": [
    "#OPTION 2\n",
    "\n",
    "import numpy as np\n",
    "\n",
    "years_btw = list(range(1970,2021))\n",
    "\n",
    "for year in years_btw:\n",
    "    if (year%4) == 0:\n",
    "        print (f\"first leap year is : {year}\")\n",
    "        first_leap = year\n",
    "        break\n",
    "\n",
    "print(len(np.arange(first_leap,2021,4).tolist()))"
   ]
  }
 ],
 "metadata": {
  "celltoolbar": "Slideshow",
  "kernelspec": {
   "display_name": "Python 3",
   "language": "python",
   "name": "python3"
  },
  "language_info": {
   "codemirror_mode": {
    "name": "ipython",
    "version": 3
   },
   "file_extension": ".py",
   "mimetype": "text/x-python",
   "name": "python",
   "nbconvert_exporter": "python",
   "pygments_lexer": "ipython3",
   "version": "3.6.10"
  }
 },
 "nbformat": 4,
 "nbformat_minor": 4
}
