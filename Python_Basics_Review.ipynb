{
 "cells": [
  {
   "cell_type": "markdown",
   "metadata": {
    "slideshow": {
     "slide_type": "subslide"
    }
   },
   "source": [
    "# 1- The Advantures of v : Assigning Value to a Variable"
   ]
  },
  {
   "cell_type": "markdown",
   "metadata": {
    "slideshow": {
     "slide_type": "fragment"
    }
   },
   "source": [
    "Let's create a variable called 'v'"
   ]
  },
  {
   "cell_type": "code",
   "execution_count": null,
   "metadata": {
    "slideshow": {
     "slide_type": "fragment"
    }
   },
   "outputs": [],
   "source": [
    "v=0\n",
    "print (\"My name is v and my value is\",v)"
   ]
  },
  {
   "cell_type": "markdown",
   "metadata": {
    "slideshow": {
     "slide_type": "fragment"
    }
   },
   "source": [
    "Now, let's change v value"
   ]
  },
  {
   "cell_type": "code",
   "execution_count": null,
   "metadata": {
    "slideshow": {
     "slide_type": "fragment"
    }
   },
   "outputs": [],
   "source": [
    "v=2\n",
    "print(\"My name is still v, but my value is now\",v)\n",
    "print (\"I am also of a type\",type(v))"
   ]
  },
  {
   "cell_type": "markdown",
   "metadata": {
    "slideshow": {
     "slide_type": "subslide"
    }
   },
   "source": [
    "Now, you can decide on the value:"
   ]
  },
  {
   "cell_type": "code",
   "execution_count": null,
   "metadata": {
    "slideshow": {
     "slide_type": "fragment"
    }
   },
   "outputs": [],
   "source": [
    "v=input(\"Please enter some vlaue for v :\")\n",
    "print (\"Hey, it's v again! You changed my value to :\",v)\n",
    "print (\"Wow, and you changed my type\",type(v))\n",
    "print (\"I want to be a number again!\")"
   ]
  },
  {
   "cell_type": "markdown",
   "metadata": {
    "slideshow": {
     "slide_type": "fragment"
    }
   },
   "source": [
    "Let's change v to integer"
   ]
  },
  {
   "cell_type": "code",
   "execution_count": null,
   "metadata": {
    "scrolled": true,
    "slideshow": {
     "slide_type": "fragment"
    }
   },
   "outputs": [],
   "source": [
    "v =int(v)\n",
    "print(\"Thank you! I am\"+str(type(v))+\"again\")"
   ]
  },
  {
   "cell_type": "markdown",
   "metadata": {
    "slideshow": {
     "slide_type": "slide"
    }
   },
   "source": [
    "# 2- Variable Scope/Namespace/Lifespan"
   ]
  },
  {
   "cell_type": "markdown",
   "metadata": {
    "slideshow": {
     "slide_type": "subslide"
    }
   },
   "source": [
    "Each variable has a scope of existence. It lives in the space in whihc you defined it. If you define it in a function block, it will die outside of it (unless you return it)."
   ]
  },
  {
   "cell_type": "code",
   "execution_count": null,
   "metadata": {
    "slideshow": {
     "slide_type": "fragment"
    }
   },
   "outputs": [],
   "source": [
    "def vloop():\n",
    "    for v in range(3):\n",
    "        print (\"Hi! I am also v but I am not THAT v , my value is\",v)"
   ]
  },
  {
   "cell_type": "markdown",
   "metadata": {
    "slideshow": {
     "slide_type": "fragment"
    }
   },
   "source": [
    "Let's create v again, this v is global - it lives in the entire script."
   ]
  },
  {
   "cell_type": "code",
   "execution_count": null,
   "metadata": {
    "slideshow": {
     "slide_type": "fragment"
    }
   },
   "outputs": [],
   "source": [
    "v =17\n",
    "print (\"It's v! I am alive again, and my value is\",v)\n",
    "print (\"This time we will talk about 'to be v or not to be v'\")\n",
    "print (\"ups someone is stealing my identity!!, see...\")\n"
   ]
  },
  {
   "cell_type": "markdown",
   "metadata": {
    "slideshow": {
     "slide_type": "subslide"
    }
   },
   "source": [
    "There is a small function above, it also has v variable, but this v is different : it lives only in the function"
   ]
  },
  {
   "cell_type": "code",
   "execution_count": null,
   "metadata": {
    "slideshow": {
     "slide_type": "fragment"
    }
   },
   "outputs": [],
   "source": [
    "vloop()"
   ]
  },
  {
   "cell_type": "markdown",
   "metadata": {
    "slideshow": {
     "slide_type": "fragment"
    }
   },
   "source": [
    "Now, let's check v value"
   ]
  },
  {
   "cell_type": "code",
   "execution_count": null,
   "metadata": {
    "slideshow": {
     "slide_type": "fragment"
    }
   },
   "outputs": [],
   "source": [
    "print (\"Hey it's me again! THE 'v'. See?\", v)"
   ]
  },
  {
   "cell_type": "markdown",
   "metadata": {
    "slideshow": {
     "slide_type": "subslide"
    }
   },
   "source": [
    "<font color=red><h3> HINT: Even if you finished running the script, the variables still persist in memory with their values, when you rerun the script with different values, it may happen that previous values are used.This causes errors difficult to find. To avoid such problems, you may delete certain crucial variables at the end of the script or reopen the idle</font>\n"
   ]
  },
  {
   "cell_type": "markdown",
   "metadata": {},
   "source": [
    "# 3 - v's friend z : Importing Ready-to-use Functions"
   ]
  },
  {
   "cell_type": "markdown",
   "metadata": {},
   "source": [
    "There are two ways of importing modules and the way you use the functions from the module depend on how you import them."
   ]
  },
  {
   "cell_type": "code",
   "execution_count": null,
   "metadata": {},
   "outputs": [],
   "source": [
    "import math"
   ]
  },
  {
   "cell_type": "markdown",
   "metadata": {},
   "source": [
    "v has a friend z, z is different from v"
   ]
  },
  {
   "cell_type": "code",
   "execution_count": null,
   "metadata": {},
   "outputs": [],
   "source": [
    "v = 16.0\n",
    "z = \"ABC\"\n",
    "\n",
    "print (\"It's v, hey! my value is\", v, \"and this is my friend\")\n",
    "print (\"z whose value is:\",z)\n",
    "print (\"I am\", type(v), \"and z is\", type(z))"
   ]
  },
  {
   "cell_type": "markdown",
   "metadata": {},
   "source": [
    "z and v have one thing in common: they want less of them"
   ]
  },
  {
   "cell_type": "code",
   "execution_count": null,
   "metadata": {
    "scrolled": true
   },
   "outputs": [],
   "source": [
    "print ( \"v: I want to be smaller\")\n",
    "v = math.sqrt(v) # one type of 'import'\n",
    "print (\"z:mee too\")\n",
    "z = z.lower() \n",
    "print (\"great! we did it, we lost weight, look...\")\n",
    "print (\"v:\", v, \"and z:\", z)"
   ]
  },
  {
   "cell_type": "markdown",
   "metadata": {},
   "source": [
    "# 4 - Loops - V is Aging"
   ]
  },
  {
   "cell_type": "code",
   "execution_count": null,
   "metadata": {
    "scrolled": true
   },
   "outputs": [],
   "source": [
    "v = 0\n",
    "print (\"v: I am\", v, \"years old\")\n",
    "\n",
    "for newAge in range(1,12):\n",
    "    print (\"newAge is now:\", newAge)\n",
    "    v = newAge\n",
    "    print (\"v: now I am\", v, \"years old\")"
   ]
  },
  {
   "cell_type": "markdown",
   "metadata": {},
   "source": [
    "z is aging differently"
   ]
  },
  {
   "cell_type": "code",
   "execution_count": null,
   "metadata": {},
   "outputs": [],
   "source": [
    "z = 0\n",
    "\n",
    "print (\"z: while v is\",v,\"years old\")\n",
    "print (\"I am only\", z, \"years old\")\n",
    "print (\"I need to catch up with v\")\n",
    "\n",
    "z_is_younger_than_v = True\n",
    "another_year_passed = 1\n",
    "#\n",
    "while z_is_younger_than_v: # this is the same as: while z_is_younger_than_v == True\n",
    "    print (z)\n",
    "    z = z + another_year_passed\n",
    "    print (\"z: now I am\",z,\"years old and v is\",v,\"years old\")\n",
    "    \n",
    "    if z == v:\n",
    "        z_is_younger_than_v = False\n",
    "\n",
    "print\n",
    "print (\"At last, v is\",v, \"and z is\",z)\n"
   ]
  },
  {
   "cell_type": "markdown",
   "metadata": {
    "slideshow": {
     "slide_type": "slide"
    }
   },
   "source": [
    "# 5 - Functions"
   ]
  },
  {
   "cell_type": "markdown",
   "metadata": {
    "slideshow": {
     "slide_type": "subslide"
    }
   },
   "source": [
    "Functions may:\n",
    " 1. Do something but not return anything\n",
    " 2. Do something and return something\n",
    " 3. Take no arguments\n",
    " 4. Take arguments"
   ]
  },
  {
   "cell_type": "markdown",
   "metadata": {
    "slideshow": {
     "slide_type": "subslide"
    }
   },
   "source": [
    "a) nothing in -nothing out"
   ]
  },
  {
   "cell_type": "code",
   "execution_count": null,
   "metadata": {
    "slideshow": {
     "slide_type": "fragment"
    }
   },
   "outputs": [],
   "source": [
    "def print_v_inside():\n",
    "    print (\"MY NAME IS: print_v_inside()\")\n",
    "    v = \"abc\"\n",
    "    print (\"Only I can decide on the value of v\",)\n",
    "    print (\"and the value is:\", v)\n",
    "    print (\"I am greedy but fair: nothing in - nothing out\")"
   ]
  },
  {
   "cell_type": "code",
   "execution_count": null,
   "metadata": {
    "scrolled": false,
    "slideshow": {
     "slide_type": "fragment"
    }
   },
   "outputs": [],
   "source": [
    "print_v_inside()"
   ]
  },
  {
   "cell_type": "markdown",
   "metadata": {
    "slideshow": {
     "slide_type": "subslide"
    }
   },
   "source": [
    "b) something IN - nothing out"
   ]
  },
  {
   "cell_type": "code",
   "execution_count": null,
   "metadata": {
    "slideshow": {
     "slide_type": "fragment"
    }
   },
   "outputs": [],
   "source": [
    "def print_input_v(inputFromOutside):\n",
    "    print (\"MY NAME IS: print_input_v(inputFromOutside)\")\n",
    "    v = inputFromOutside\n",
    "    print (\"You decided on the value of v\")\n",
    "    print (\"and the value is:\", v)\n",
    "    print (\"I am greedy: I took something from you\",)\n",
    "    print (\"and will not give anything in exchange\")"
   ]
  },
  {
   "cell_type": "code",
   "execution_count": null,
   "metadata": {
    "slideshow": {
     "slide_type": "fragment"
    }
   },
   "outputs": [],
   "source": [
    "v = 123\n",
    "print_input_v(v)"
   ]
  },
  {
   "cell_type": "code",
   "execution_count": null,
   "metadata": {
    "scrolled": true,
    "slideshow": {
     "slide_type": "subslide"
    }
   },
   "outputs": [],
   "source": [
    "z = \"bang\"\n",
    "print_input_v(z)"
   ]
  },
  {
   "cell_type": "markdown",
   "metadata": {
    "slideshow": {
     "slide_type": "subslide"
    }
   },
   "source": [
    "c) nothing in - something OUT"
   ]
  },
  {
   "cell_type": "code",
   "execution_count": null,
   "metadata": {
    "slideshow": {
     "slide_type": "fragment"
    }
   },
   "outputs": [],
   "source": [
    "def print_v_inside_and_return():\n",
    "    print (\"MY NAME IS: print_v_inside_and_return()\")\n",
    "    v = \"xyz\"\n",
    "    print (\"Only I can decide on the value of v\",)\n",
    "    print (\"and the value is:\", v)\n",
    "    print (\"but... I am extremely generous - here is my v for you\")\n",
    "    return v"
   ]
  },
  {
   "cell_type": "markdown",
   "metadata": {
    "slideshow": {
     "slide_type": "subslide"
    }
   },
   "source": [
    "In c, since there is something returning, we need to take care of it"
   ]
  },
  {
   "cell_type": "code",
   "execution_count": null,
   "metadata": {
    "slideshow": {
     "slide_type": "fragment"
    }
   },
   "outputs": [],
   "source": [
    "returnedValue = print_v_inside_and_return()\n",
    "print (\"returned value is:\", returnedValue)"
   ]
  },
  {
   "cell_type": "markdown",
   "metadata": {
    "slideshow": {
     "slide_type": "subslide"
    }
   },
   "source": [
    "d) something IN - something OUT"
   ]
  },
  {
   "cell_type": "code",
   "execution_count": null,
   "metadata": {
    "slideshow": {
     "slide_type": "fragment"
    }
   },
   "outputs": [],
   "source": [
    "def print_input_v_and_return(inputFromOutside):\n",
    "    print (\"MY NAME IS: print_input_v_and_return(inputFromOutside)\")\n",
    "    v = inputFromOutside\n",
    "    print (\"You decided on the value of v\",)\n",
    "    print (\"and the value is:\", v)\n",
    "    print (\"now, let's improve v\")\n",
    "    v = \"better v\"\n",
    "    print (\"and here is the new v for you\")\n",
    "    return v"
   ]
  },
  {
   "cell_type": "code",
   "execution_count": null,
   "metadata": {
    "slideshow": {
     "slide_type": "subslide"
    }
   },
   "outputs": [],
   "source": [
    "newReturnedValue = print_input_v_and_return(v)\n",
    "print (\"new returned value is:\", newReturnedValue)"
   ]
  },
  {
   "cell_type": "markdown",
   "metadata": {
    "slideshow": {
     "slide_type": "subslide"
    }
   },
   "source": [
    "We can do it again with different input:"
   ]
  },
  {
   "cell_type": "code",
   "execution_count": null,
   "metadata": {
    "slideshow": {
     "slide_type": "fragment"
    }
   },
   "outputs": [],
   "source": [
    "newReturnedValue = print_input_v_and_return(z)\n",
    "print (\"new returned value is:\", newReturnedValue)\n"
   ]
  }
 ],
 "metadata": {
  "celltoolbar": "Slideshow",
  "kernelspec": {
   "display_name": "Python 3",
   "language": "python",
   "name": "python3"
  },
  "language_info": {
   "codemirror_mode": {
    "name": "ipython",
    "version": 3
   },
   "file_extension": ".py",
   "mimetype": "text/x-python",
   "name": "python",
   "nbconvert_exporter": "python",
   "pygments_lexer": "ipython3",
   "version": "3.6.10"
  }
 },
 "nbformat": 4,
 "nbformat_minor": 4
}
