{
 "cells": [
  {
   "cell_type": "markdown",
   "metadata": {
    "rise": {
     "autolaunch": true
    },
    "slideshow": {
     "slide_type": "slide"
    }
   },
   "source": [
    "## HANDS-ON TIME \n",
    "\n"
   ]
  },
  {
   "cell_type": "markdown",
   "metadata": {
    "slideshow": {
     "slide_type": "slide"
    }
   },
   "source": [
    "1. Practice while loop with else from [Programiz.com](https://www.programiz.com/python-programming/while-loop). You can use the empty code cell below to test your codes."
   ]
  },
  {
   "cell_type": "code",
   "execution_count": 8,
   "metadata": {
    "slideshow": {
     "slide_type": "fragment"
    }
   },
   "outputs": [],
   "source": [
    "#while loop with else"
   ]
  },
  {
   "cell_type": "markdown",
   "metadata": {
    "slideshow": {
     "slide_type": "slide"
    }
   },
   "source": [
    "<center><img src=\"https://i.etsystatic.com/6854467/r/il/87fa53/1383013322/il_570xN.1383013322_31ab.jpg\" width=300 height=300 align=\"center\"/></center>"
   ]
  },
  {
   "cell_type": "markdown",
   "metadata": {
    "slideshow": {
     "slide_type": "fragment"
    }
   },
   "source": [
    "2. Imagine you are in a _Python_ restaurant which serves menu as a list. And, you are a hungry caterpillar who wants to eat everything! And frankly, you can order your food by print statements. Write a for loop to print the names of the foods that you want to eat. "
   ]
  },
  {
   "cell_type": "code",
   "execution_count": 9,
   "metadata": {
    "slideshow": {
     "slide_type": "fragment"
    }
   },
   "outputs": [],
   "source": [
    "menu_pycafe = [\"one ice-cream cone\", \"one pickle\", \"one slice of Swiss cheese\", \"one slice of salami\",\n",
    "               \"one lollipop\", \"one piece of cherry pie\", \"one sausage\", \"one cupcake and one slice of watermelon\"]\n",
    "#your code goes here"
   ]
  },
  {
   "cell_type": "markdown",
   "metadata": {
    "slideshow": {
     "slide_type": "slide"
    }
   },
   "source": [
    "<center><img src=\"https://static1.squarespace.com/static/5c62c09c4d546e27dc1016c7/5c71f65a9140b72b900c47e2/5c846bca24a694a6a027ee65/1552182810224/BTTF+In+Concert.jpg?format=500w\" width=300 height=300/></center>"
   ]
  },
  {
   "cell_type": "markdown",
   "metadata": {
    "slideshow": {
     "slide_type": "fragment"
    }
   },
   "source": [
    "3. You have a time machine which will take you from 2020 to 2050, and you would like to write a count-down script so that you will know which year you are in! Use a while loop to count down and don't forget to print each year that you pass, Marty! "
   ]
  },
  {
   "cell_type": "code",
   "execution_count": 7,
   "metadata": {
    "slideshow": {
     "slide_type": "fragment"
    }
   },
   "outputs": [],
   "source": [
    "#your code goes here"
   ]
  }
 ],
 "metadata": {
  "celltoolbar": "Edit Metadata",
  "kernelspec": {
   "display_name": "Python 3",
   "language": "python",
   "name": "python3"
  },
  "language_info": {
   "codemirror_mode": {
    "name": "ipython",
    "version": 3
   },
   "file_extension": ".py",
   "mimetype": "text/x-python",
   "name": "python",
   "nbconvert_exporter": "python",
   "pygments_lexer": "ipython3",
   "version": "3.6.10"
  }
 },
 "nbformat": 4,
 "nbformat_minor": 4
}
