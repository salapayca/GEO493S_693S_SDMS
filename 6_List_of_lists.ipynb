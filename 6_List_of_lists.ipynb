{
 "cells": [
  {
   "cell_type": "markdown",
   "id": "d3d88b03",
   "metadata": {
    "slideshow": {
     "slide_type": "slide"
    }
   },
   "source": [
    "## Multi-dimensional Lists\n",
    "\n",
    "We can store lists within lists.\n",
    "\n",
    "\n",
    "![list_of_lists](listoflist-768x432.jpg)\n",
    "\n",
    "Picture Source : https://blog.finxter.com/python-list-of-lists/"
   ]
  },
  {
   "cell_type": "code",
   "execution_count": 1,
   "id": "276f0570",
   "metadata": {
    "slideshow": {
     "slide_type": "-"
    }
   },
   "outputs": [
    {
     "name": "stdout",
     "output_type": "stream",
     "text": [
      "[[1, 2], [3, 4], [5, 6]]\n"
     ]
    }
   ],
   "source": [
    "mylist= [[1,2],[3,4],[5,6]]\n",
    "\n",
    "print(mylist)"
   ]
  },
  {
   "cell_type": "markdown",
   "id": "fef79675",
   "metadata": {
    "slideshow": {
     "slide_type": "-"
    }
   },
   "source": [
    "The inner list can hold the coordinates, criteria value-weight pair, or anything that you can think of! "
   ]
  },
  {
   "cell_type": "markdown",
   "id": "24d85584",
   "metadata": {
    "slideshow": {
     "slide_type": "slide"
    }
   },
   "source": [
    "Let's assume that we are given three polygons' criteria values and weights as a pair list : where the first element is criteria value and the second one is criteria weight [v,w]. \n",
    "\n",
    "And we want to make sure the criteria weights' sum is 1. Let's do a step by step calculation and see how we can achieve this task successfully."
   ]
  },
  {
   "cell_type": "code",
   "execution_count": 2,
   "id": "83cfeee8",
   "metadata": {
    "slideshow": {
     "slide_type": "-"
    }
   },
   "outputs": [
    {
     "data": {
      "text/plain": [
       "[[0.3, 0.12], [0.4, 0.6], [0.7, 0.38]]"
      ]
     },
     "execution_count": 2,
     "metadata": {},
     "output_type": "execute_result"
    }
   ],
   "source": [
    "pairs =[[0.3,0.12],[0.4,0.6],[0.7,0.38]]\n",
    "pairs"
   ]
  },
  {
   "cell_type": "markdown",
   "id": "96765de8",
   "metadata": {
    "slideshow": {
     "slide_type": "-"
    }
   },
   "source": [
    "Q1)First let's check how we can get the first pair from our pairs list:"
   ]
  },
  {
   "cell_type": "code",
   "execution_count": 8,
   "id": "d5b36354",
   "metadata": {
    "slideshow": {
     "slide_type": "skip"
    }
   },
   "outputs": [
    {
     "data": {
      "text/plain": [
       "[0.3, 0.12]"
      ]
     },
     "execution_count": 8,
     "metadata": {},
     "output_type": "execute_result"
    }
   ],
   "source": [
    "pairs[0]"
   ]
  },
  {
   "cell_type": "markdown",
   "id": "b46755b0",
   "metadata": {
    "slideshow": {
     "slide_type": "slide"
    }
   },
   "source": [
    "Q2)Good job! Now, let's try how we can get only the weight of first polygon:"
   ]
  },
  {
   "cell_type": "code",
   "execution_count": 14,
   "id": "45a3142d",
   "metadata": {
    "slideshow": {
     "slide_type": "-"
    }
   },
   "outputs": [],
   "source": [
    "cw3= pairs[2][0]"
   ]
  },
  {
   "cell_type": "markdown",
   "id": "6b30243c",
   "metadata": {
    "slideshow": {
     "slide_type": "slide"
    }
   },
   "source": [
    "We are going to learn about loops and how to iterate through list soon but before that let's assume we would like to do a basic sum operation for each weight. Create one variable per weight and sum them to see if they are equal to 1 or not. You can check this by using a Boolean operation."
   ]
  },
  {
   "cell_type": "code",
   "execution_count": 3,
   "id": "11f7454e",
   "metadata": {
    "slideshow": {
     "slide_type": "-"
    }
   },
   "outputs": [
    {
     "data": {
      "text/plain": [
       "False"
      ]
     },
     "execution_count": 3,
     "metadata": {},
     "output_type": "execute_result"
    }
   ],
   "source": [
    "cw1=pairs[0][1]\n",
    "cw2=pairs[1][1]\n",
    "cw3=pairs[2][1]\n",
    "\n",
    "total =cw1+cw2+cw3\n",
    "\n",
    "total==1"
   ]
  },
  {
   "cell_type": "markdown",
   "id": "2ebace23",
   "metadata": {},
   "source": [
    "    \n",
    "<a href=\"7_Functions_and_Methods.ipynb\">Let's move to the next section to learn more!</a>\n",
    "\n"
   ]
  }
 ],
 "metadata": {
  "celltoolbar": "Raw Cell Format",
  "kernelspec": {
   "display_name": "Python 3 (ipykernel)",
   "language": "python",
   "name": "python3"
  },
  "language_info": {
   "codemirror_mode": {
    "name": "ipython",
    "version": 3
   },
   "file_extension": ".py",
   "mimetype": "text/x-python",
   "name": "python",
   "nbconvert_exporter": "python",
   "pygments_lexer": "ipython3",
   "version": "3.7.10"
  }
 },
 "nbformat": 4,
 "nbformat_minor": 5
}
