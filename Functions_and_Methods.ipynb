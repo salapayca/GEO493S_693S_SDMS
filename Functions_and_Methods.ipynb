{
 "cells": [
  {
   "cell_type": "markdown",
   "metadata": {
    "slideshow": {
     "slide_type": "slide"
    }
   },
   "source": [
    "# Functions and Methods"
   ]
  },
  {
   "cell_type": "markdown",
   "metadata": {
    "slideshow": {
     "slide_type": "subslide"
    }
   },
   "source": [
    "## Working with Strings"
   ]
  },
  {
   "cell_type": "markdown",
   "metadata": {
    "slideshow": {
     "slide_type": "fragment"
    }
   },
   "source": [
    "Many geoprocessing parameters are strings such as the names of workspace,<br>\n",
    "the name of a feature class or the name of a field in a table. <br>\n",
    "Let's review some useful functions and methods which will help us to work with strings."
   ]
  },
  {
   "cell_type": "markdown",
   "metadata": {
    "slideshow": {
     "slide_type": "fragment"
    }
   },
   "source": [
    "The __lower()__ method returns a lowercase version of the string value:"
   ]
  },
  {
   "cell_type": "code",
   "execution_count": 7,
   "metadata": {
    "scrolled": true,
    "slideshow": {
     "slide_type": "fragment"
    }
   },
   "outputs": [
    {
     "name": "stdout",
     "output_type": "stream",
     "text": [
      "i am learning gis programming\n"
     ]
    }
   ],
   "source": [
    "mytext= \"I AM LeaRNING GIS PRogRAmming\"\n",
    "print(mytext.lower())"
   ]
  },
  {
   "cell_type": "markdown",
   "metadata": {
    "slideshow": {
     "slide_type": "subslide"
    }
   },
   "source": [
    "The __upper()__ method returns a uppercase version of the string value:"
   ]
  },
  {
   "cell_type": "code",
   "execution_count": 8,
   "metadata": {
    "slideshow": {
     "slide_type": "fragment"
    }
   },
   "outputs": [
    {
     "name": "stdout",
     "output_type": "stream",
     "text": [
      " I AM LEARNING GIS PROGRAMMING\n"
     ]
    }
   ],
   "source": [
    "mytext = \" I am learning GIS Programming\"\n",
    "print(mytext.upper())"
   ]
  },
  {
   "cell_type": "markdown",
   "metadata": {
    "slideshow": {
     "slide_type": "subslide"
    }
   },
   "source": [
    "The __title()__ method returns a title-case version of the string value:"
   ]
  },
  {
   "cell_type": "code",
   "execution_count": 9,
   "metadata": {
    "slideshow": {
     "slide_type": "fragment"
    }
   },
   "outputs": [
    {
     "name": "stdout",
     "output_type": "stream",
     "text": [
      " I Am Learning Gis Programming\n"
     ]
    }
   ],
   "source": [
    "mytext = \" I am learning GIS Programming\"\n",
    "print(mytext.title())"
   ]
  },
  {
   "cell_type": "markdown",
   "metadata": {
    "slideshow": {
     "slide_type": "subslide"
    }
   },
   "source": [
    "The __find()__ method identifies a substring and returns the lefmost<br>\n",
    "index number when the string is found. A value of -1 is returned when<br>\n",
    "the string is not found. Method is case sensitive.<br>\n",
    "What would you expect as a result of below script?"
   ]
  },
  {
   "cell_type": "code",
   "execution_count": 11,
   "metadata": {
    "slideshow": {
     "slide_type": "fragment"
    }
   },
   "outputs": [
    {
     "data": {
      "text/plain": [
       "11"
      ]
     },
     "execution_count": 11,
     "metadata": {},
     "output_type": "execute_result"
    }
   ],
   "source": [
    "mystring = \"Geographic information Systems\"\n",
    "mystring.find(\"info\")"
   ]
  },
  {
   "cell_type": "markdown",
   "metadata": {
    "slideshow": {
     "slide_type": "subslide"
    }
   },
   "source": [
    "The __join()__ method is used to join elements of a list:"
   ]
  },
  {
   "cell_type": "code",
   "execution_count": 12,
   "metadata": {
    "slideshow": {
     "slide_type": "fragment"
    }
   },
   "outputs": [
    {
     "data": {
      "text/plain": [
       "'Geographic Information Systems'"
      ]
     },
     "execution_count": 12,
     "metadata": {},
     "output_type": "execute_result"
    }
   ],
   "source": [
    "list_gis = [\"Geographic\",\"Information\",\"Systems\"]\n",
    "string_gis = \" \"\n",
    "string_gis.join(list_gis)"
   ]
  },
  {
   "cell_type": "markdown",
   "metadata": {
    "slideshow": {
     "slide_type": "subslide"
    }
   },
   "source": [
    "Here, the elements in the list are joined into a single string.<br>\n",
    "The string object (string_gis) has a method called __join()__.<br>\n",
    "The value of the string object, in this case, is a space __(\" \")__, <br>\n",
    "and the argument of the __join()__ method is the list of elements to be<br>\n",
    "joined into a single string."
   ]
  },
  {
   "cell_type": "markdown",
   "metadata": {
    "slideshow": {
     "slide_type": "fragment"
    }
   },
   "source": [
    "The opposite of the join() is split(). Let's try to split our sentence:m"
   ]
  },
  {
   "cell_type": "code",
   "execution_count": 13,
   "metadata": {
    "slideshow": {
     "slide_type": "fragment"
    }
   },
   "outputs": [
    {
     "name": "stdout",
     "output_type": "stream",
     "text": [
      "['I', 'enjoy', 'GIS', 'Programming']\n"
     ]
    }
   ],
   "source": [
    "mystring = \"I enjoy GIS Programming\"\n",
    "mylist = mystring.split(\" \") #notice we used space hear but it could be anything. You can split from anywhere you like\n",
    "print(mylist)"
   ]
  },
  {
   "cell_type": "markdown",
   "metadata": {
    "slideshow": {
     "slide_type": "subslide"
    }
   },
   "source": [
    "Strip is usually used to manipulate path and file names. <br>\n",
    "It allows you to remove any combination of characters in<br>\n",
    "any order from the ends of an existing string.<br>\n",
    "__lstrip()__ and __rstrip()__ gives a bit more control by \n",
    "limiting the direction. For example:"
   ]
  },
  {
   "cell_type": "code",
   "execution_count": 18,
   "metadata": {
    "slideshow": {
     "slide_type": "fragment"
    }
   },
   "outputs": [
    {
     "name": "stdout",
     "output_type": "stream",
     "text": [
      "Commenting scripts is g\n",
      "mmenting scripts is good\n"
     ]
    }
   ],
   "source": [
    "mypath = \"Commenting scripts is good\"\n",
    "print (mypath.rstrip(\"Cdo\"))\n",
    "print (mypath.lstrip(\"Cdo\"))"
   ]
  },
  {
   "cell_type": "markdown",
   "metadata": {
    "slideshow": {
     "slide_type": "subslide"
    }
   },
   "source": [
    "Calling one of the strip methods without any arguments removes<br>\n",
    "leading or trailing spaces, also referred to as whitespace in coding.<br>\n",
    "This method is useful for cleaning up strings that may have been<br>\n",
    "formatted in another program. "
   ]
  },
  {
   "cell_type": "code",
   "execution_count": 15,
   "metadata": {
    "slideshow": {
     "slide_type": "fragment"
    }
   },
   "outputs": [
    {
     "data": {
      "text/plain": [
       "'I am reading my ASCII file here'"
      ]
     },
     "execution_count": 15,
     "metadata": {},
     "output_type": "execute_result"
    }
   ],
   "source": [
    "myfile = \"   I am reading my ASCII file here\"\n",
    "myfile.strip()"
   ]
  },
  {
   "cell_type": "markdown",
   "metadata": {
    "slideshow": {
     "slide_type": "slide"
    }
   },
   "source": [
    "## The Power of Replace"
   ]
  },
  {
   "cell_type": "markdown",
   "metadata": {
    "slideshow": {
     "slide_type": "subslide"
    }
   },
   "source": [
    "As the name implies, __replace()__ method used to replace a substring with<br>\n",
    "another substring. For example:"
   ]
  },
  {
   "cell_type": "code",
   "execution_count": 16,
   "metadata": {
    "slideshow": {
     "slide_type": "fragment"
    }
   },
   "outputs": [
    {
     "data": {
      "text/plain": [
       "'GIS Programming'"
      ]
     },
     "execution_count": 16,
     "metadata": {},
     "output_type": "execute_result"
    }
   ],
   "source": [
    "mytopic = \"GIS Scripting\"\n",
    "mytopic.replace(\"Scripting\",\"Programming\")"
   ]
  },
  {
   "cell_type": "markdown",
   "metadata": {
    "slideshow": {
     "slide_type": "slide"
    }
   },
   "source": [
    "## THE PRINT"
   ]
  },
  {
   "cell_type": "markdown",
   "metadata": {
    "slideshow": {
     "slide_type": "subslide"
    }
   },
   "source": [
    "You are going to use print function a lot! Either for checking<br>\n",
    "your script is funcioning or not, or to let the end user about the<br>\n",
    "final result.<br>\n",
    "Now, let's see some examples of how we can use print function.<br>\n",
    "You can use __+__ sign before and/or after your variable depending<br>\n",
    "on where it will be printed. If it is not a string, you have to use __str()__<br>\n",
    "to convert it to string first."
   ]
  },
  {
   "cell_type": "code",
   "execution_count": 19,
   "metadata": {
    "slideshow": {
     "slide_type": "fragment"
    }
   },
   "outputs": [
    {
     "name": "stdout",
     "output_type": "stream",
     "text": [
      " It was hard to predict the spatial spread of the CoViD-19 pandemic in year 2020\n"
     ]
    }
   ],
   "source": [
    "#Casting\n",
    "year =2020\n",
    "print ( \" It was hard to predict the spatial spread of the CoViD-19 pandemic in year \"+str(year))"
   ]
  },
  {
   "cell_type": "markdown",
   "metadata": {
    "slideshow": {
     "slide_type": "fragment"
    }
   },
   "source": [
    "Another way to concatenate your string is to use {} - curly brackets.<br>\n",
    "They will look your print statement more elegant:"
   ]
  },
  {
   "cell_type": "code",
   "execution_count": 20,
   "metadata": {
    "slideshow": {
     "slide_type": "fragment"
    }
   },
   "outputs": [
    {
     "name": "stdout",
     "output_type": "stream",
     "text": [
      "It was hard to predict the spatial spread of the CoViD-19 pandemic in year 2020\n"
     ]
    }
   ],
   "source": [
    "year =2020\n",
    "print ( \"It was hard to predict the spatial spread of the CoViD-19 pandemic in year {0}\".format(year))"
   ]
  },
  {
   "cell_type": "markdown",
   "metadata": {
    "slideshow": {
     "slide_type": "subslide"
    }
   },
   "source": [
    "Here, {0} is replacement field. Can you guess why we have 0 in bracket?<br>\n",
    "What if we have more than one variable to replace?"
   ]
  },
  {
   "cell_type": "code",
   "execution_count": 21,
   "metadata": {
    "slideshow": {
     "slide_type": "fragment"
    }
   },
   "outputs": [
    {
     "name": "stdout",
     "output_type": "stream",
     "text": [
      "Seda's student number is 12345\n"
     ]
    }
   ],
   "source": [
    "studentname = \"Seda\"\n",
    "studentnumber = 12345\n",
    "print(\"{0}'s student number is {1}\".format(studentname,studentnumber))"
   ]
  },
  {
   "cell_type": "markdown",
   "metadata": {
    "slideshow": {
     "slide_type": "subslide"
    }
   },
   "source": [
    "Another approach is using % operator as a placeholder. <br>\n",
    "For strings __%__ is followed by __s__, other options are __%i__ for integer, __%d__ for decimal numbers."
   ]
  },
  {
   "cell_type": "code",
   "execution_count": 22,
   "metadata": {
    "slideshow": {
     "slide_type": "fragment"
    }
   },
   "outputs": [
    {
     "name": "stdout",
     "output_type": "stream",
     "text": [
      "Seda's student number is 12345\n"
     ]
    }
   ],
   "source": [
    "studentname = \"Seda\"\n",
    "studentnumber = 12345\n",
    "print(\"%s's student number is %i\" %(studentname,studentnumber))"
   ]
  },
  {
   "cell_type": "markdown",
   "metadata": {
    "slideshow": {
     "slide_type": "subslide"
    }
   },
   "source": [
    "And last, but not least, we have string literals where the expressions are<br>\n",
    "replaced with their values at runtime. Let's see the example below:"
   ]
  },
  {
   "cell_type": "code",
   "execution_count": 23,
   "metadata": {
    "slideshow": {
     "slide_type": "fragment"
    }
   },
   "outputs": [
    {
     "name": "stdout",
     "output_type": "stream",
     "text": [
      "Seda's student number is 12345\n"
     ]
    }
   ],
   "source": [
    "studentname = \"Seda\"\n",
    "studentnumber = \"12345\"\n",
    "print(f\"{studentname}'s student number is {studentnumber}\") # HAVE YOU NOTICED THE f "
   ]
  }
 ],
 "metadata": {
  "celltoolbar": "Slideshow",
  "kernelspec": {
   "display_name": "Python 3",
   "language": "python",
   "name": "python3"
  },
  "language_info": {
   "codemirror_mode": {
    "name": "ipython",
    "version": 3
   },
   "file_extension": ".py",
   "mimetype": "text/x-python",
   "name": "python",
   "nbconvert_exporter": "python",
   "pygments_lexer": "ipython3",
   "version": "3.6.10"
  }
 },
 "nbformat": 4,
 "nbformat_minor": 2
}
