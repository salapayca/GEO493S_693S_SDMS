{
 "cells": [
  {
   "cell_type": "markdown",
   "id": "ce2a8318",
   "metadata": {},
   "source": [
    "# Who doesn't Like More Hands On!"
   ]
  },
  {
   "cell_type": "markdown",
   "id": "202c8f48",
   "metadata": {},
   "source": [
    "Let's create an if-else which returns Comparison Matrix. First we will generate a dictionary which will hold the **\"Intensity of Importance\"** and **linguistic \"Definition\".**"
   ]
  },
  {
   "cell_type": "code",
   "execution_count": 1,
   "id": "dcb8ebf7",
   "metadata": {},
   "outputs": [],
   "source": [
    "rel_pref_dic = {\"Equal importance\":1,\n",
    "           \"Equal to moderate importance\":2,\n",
    "           \"Moderate importance\":3,\n",
    "           \"Moderate to strong importance\":4,\n",
    "           \"Strong importance\":5,\n",
    "           \"Strong to very strong importance\":6,\n",
    "           \"Very strong importance\":7,\n",
    "           \"Very to extremely strong importance\":8,\n",
    "           \"Extremely importance\":9}\n"
   ]
  },
  {
   "cell_type": "code",
   "execution_count": 2,
   "id": "352c27bb",
   "metadata": {},
   "outputs": [],
   "source": [
    "given_pref =[[\"Price\",\"Slope\",\"Moderate to strong importance\"],\n",
    "            [\"Price\",\"View\",\"Very strong importance\"],\n",
    "            [\"Slope\",\"View\",\"Strong importance\"]]"
   ]
  },
  {
   "cell_type": "markdown",
   "id": "451228c1",
   "metadata": {},
   "source": [
    "### Q1) How can I get the relative preference of Price to Slope from the given preference list?"
   ]
  },
  {
   "cell_type": "code",
   "execution_count": 3,
   "id": "d84ba368",
   "metadata": {},
   "outputs": [],
   "source": [
    "#your code goes here"
   ]
  },
  {
   "cell_type": "markdown",
   "id": "5834b8c5",
   "metadata": {},
   "source": [
    "### Q2) How can I get the dictionary value for the selected pair (Pair, Slope)?"
   ]
  },
  {
   "cell_type": "code",
   "execution_count": 4,
   "id": "fdcc80fa",
   "metadata": {},
   "outputs": [],
   "source": [
    "#your code goes here"
   ]
  },
  {
   "cell_type": "markdown",
   "id": "4c322080",
   "metadata": {},
   "source": [
    "### Q3) Now, can we get them in a loop so that we can have all intesity values appended in a list?"
   ]
  },
  {
   "cell_type": "code",
   "execution_count": 5,
   "id": "ab83294f",
   "metadata": {},
   "outputs": [],
   "source": [
    "## your code goes here"
   ]
  }
 ],
 "metadata": {
  "kernelspec": {
   "display_name": "Python 3",
   "language": "python",
   "name": "python3"
  },
  "language_info": {
   "codemirror_mode": {
    "name": "ipython",
    "version": 3
   },
   "file_extension": ".py",
   "mimetype": "text/x-python",
   "name": "python",
   "nbconvert_exporter": "python",
   "pygments_lexer": "ipython3",
   "version": "3.7.11"
  }
 },
 "nbformat": 4,
 "nbformat_minor": 5
}
